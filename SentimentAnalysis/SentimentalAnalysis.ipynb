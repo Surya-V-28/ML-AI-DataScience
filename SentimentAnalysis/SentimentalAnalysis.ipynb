{
  "nbformat": 4,
  "nbformat_minor": 0,
  "metadata": {
    "colab": {
      "provenance": []
    },
    "kernelspec": {
      "name": "python3",
      "display_name": "Python 3"
    },
    "language_info": {
      "name": "python"
    }
  },
  "cells": [
    {
      "cell_type": "code",
      "execution_count": 2,
      "metadata": {
        "id": "Pno_e_9HG5tr"
      },
      "outputs": [],
      "source": [
        "# importing the basics libries\n",
        "import numpy  as np\n",
        "import pandas as pd\n",
        "import matplotlib.pyplot as plt\n",
        "import seaborn as  sns\n"
      ]
    },
    {
      "cell_type": "code",
      "source": [
        "from google.colab import drive\n",
        "drive.mount('/content/drive')"
      ],
      "metadata": {
        "colab": {
          "base_uri": "https://localhost:8080/"
        },
        "id": "dnFTxwVfG9nl",
        "outputId": "eb0e39f0-b7de-4ef4-b138-d0983214e73a"
      },
      "execution_count": 1,
      "outputs": [
        {
          "output_type": "stream",
          "name": "stdout",
          "text": [
            "Mounted at /content/drive\n"
          ]
        }
      ]
    },
    {
      "cell_type": "code",
      "source": [
        "# loading the datasets\n",
        "data = pd.read_csv('/content/drive/MyDrive/Tweets.csv')\n",
        "data.head()"
      ],
      "metadata": {
        "colab": {
          "base_uri": "https://localhost:8080/",
          "height": 496
        },
        "id": "OzSdO5ySHOQ_",
        "outputId": "85df404e-50bf-4d7b-a44a-adf412808e1d"
      },
      "execution_count": 3,
      "outputs": [
        {
          "output_type": "execute_result",
          "data": {
            "text/plain": [
              "             tweet_id airline_sentiment  airline_sentiment_confidence  \\\n",
              "0  570306133677760513           neutral                        1.0000   \n",
              "1  570301130888122368          positive                        0.3486   \n",
              "2  570301083672813571           neutral                        0.6837   \n",
              "3  570301031407624196          negative                        1.0000   \n",
              "4  570300817074462722          negative                        1.0000   \n",
              "\n",
              "  negativereason  negativereason_confidence         airline  \\\n",
              "0            NaN                        NaN  Virgin America   \n",
              "1            NaN                     0.0000  Virgin America   \n",
              "2            NaN                        NaN  Virgin America   \n",
              "3     Bad Flight                     0.7033  Virgin America   \n",
              "4     Can't Tell                     1.0000  Virgin America   \n",
              "\n",
              "  airline_sentiment_gold        name negativereason_gold  retweet_count  \\\n",
              "0                    NaN     cairdin                 NaN              0   \n",
              "1                    NaN    jnardino                 NaN              0   \n",
              "2                    NaN  yvonnalynn                 NaN              0   \n",
              "3                    NaN    jnardino                 NaN              0   \n",
              "4                    NaN    jnardino                 NaN              0   \n",
              "\n",
              "                                                text tweet_coord  \\\n",
              "0                @VirginAmerica What @dhepburn said.         NaN   \n",
              "1  @VirginAmerica plus you've added commercials t...         NaN   \n",
              "2  @VirginAmerica I didn't today... Must mean I n...         NaN   \n",
              "3  @VirginAmerica it's really aggressive to blast...         NaN   \n",
              "4  @VirginAmerica and it's a really big bad thing...         NaN   \n",
              "\n",
              "               tweet_created tweet_location               user_timezone  \n",
              "0  2015-02-24 11:35:52 -0800            NaN  Eastern Time (US & Canada)  \n",
              "1  2015-02-24 11:15:59 -0800            NaN  Pacific Time (US & Canada)  \n",
              "2  2015-02-24 11:15:48 -0800      Lets Play  Central Time (US & Canada)  \n",
              "3  2015-02-24 11:15:36 -0800            NaN  Pacific Time (US & Canada)  \n",
              "4  2015-02-24 11:14:45 -0800            NaN  Pacific Time (US & Canada)  "
            ],
            "text/html": [
              "\n",
              "  <div id=\"df-c6efc7a8-834b-40af-a4a5-2e3ab99edadc\">\n",
              "    <div class=\"colab-df-container\">\n",
              "      <div>\n",
              "<style scoped>\n",
              "    .dataframe tbody tr th:only-of-type {\n",
              "        vertical-align: middle;\n",
              "    }\n",
              "\n",
              "    .dataframe tbody tr th {\n",
              "        vertical-align: top;\n",
              "    }\n",
              "\n",
              "    .dataframe thead th {\n",
              "        text-align: right;\n",
              "    }\n",
              "</style>\n",
              "<table border=\"1\" class=\"dataframe\">\n",
              "  <thead>\n",
              "    <tr style=\"text-align: right;\">\n",
              "      <th></th>\n",
              "      <th>tweet_id</th>\n",
              "      <th>airline_sentiment</th>\n",
              "      <th>airline_sentiment_confidence</th>\n",
              "      <th>negativereason</th>\n",
              "      <th>negativereason_confidence</th>\n",
              "      <th>airline</th>\n",
              "      <th>airline_sentiment_gold</th>\n",
              "      <th>name</th>\n",
              "      <th>negativereason_gold</th>\n",
              "      <th>retweet_count</th>\n",
              "      <th>text</th>\n",
              "      <th>tweet_coord</th>\n",
              "      <th>tweet_created</th>\n",
              "      <th>tweet_location</th>\n",
              "      <th>user_timezone</th>\n",
              "    </tr>\n",
              "  </thead>\n",
              "  <tbody>\n",
              "    <tr>\n",
              "      <th>0</th>\n",
              "      <td>570306133677760513</td>\n",
              "      <td>neutral</td>\n",
              "      <td>1.0000</td>\n",
              "      <td>NaN</td>\n",
              "      <td>NaN</td>\n",
              "      <td>Virgin America</td>\n",
              "      <td>NaN</td>\n",
              "      <td>cairdin</td>\n",
              "      <td>NaN</td>\n",
              "      <td>0</td>\n",
              "      <td>@VirginAmerica What @dhepburn said.</td>\n",
              "      <td>NaN</td>\n",
              "      <td>2015-02-24 11:35:52 -0800</td>\n",
              "      <td>NaN</td>\n",
              "      <td>Eastern Time (US &amp; Canada)</td>\n",
              "    </tr>\n",
              "    <tr>\n",
              "      <th>1</th>\n",
              "      <td>570301130888122368</td>\n",
              "      <td>positive</td>\n",
              "      <td>0.3486</td>\n",
              "      <td>NaN</td>\n",
              "      <td>0.0000</td>\n",
              "      <td>Virgin America</td>\n",
              "      <td>NaN</td>\n",
              "      <td>jnardino</td>\n",
              "      <td>NaN</td>\n",
              "      <td>0</td>\n",
              "      <td>@VirginAmerica plus you've added commercials t...</td>\n",
              "      <td>NaN</td>\n",
              "      <td>2015-02-24 11:15:59 -0800</td>\n",
              "      <td>NaN</td>\n",
              "      <td>Pacific Time (US &amp; Canada)</td>\n",
              "    </tr>\n",
              "    <tr>\n",
              "      <th>2</th>\n",
              "      <td>570301083672813571</td>\n",
              "      <td>neutral</td>\n",
              "      <td>0.6837</td>\n",
              "      <td>NaN</td>\n",
              "      <td>NaN</td>\n",
              "      <td>Virgin America</td>\n",
              "      <td>NaN</td>\n",
              "      <td>yvonnalynn</td>\n",
              "      <td>NaN</td>\n",
              "      <td>0</td>\n",
              "      <td>@VirginAmerica I didn't today... Must mean I n...</td>\n",
              "      <td>NaN</td>\n",
              "      <td>2015-02-24 11:15:48 -0800</td>\n",
              "      <td>Lets Play</td>\n",
              "      <td>Central Time (US &amp; Canada)</td>\n",
              "    </tr>\n",
              "    <tr>\n",
              "      <th>3</th>\n",
              "      <td>570301031407624196</td>\n",
              "      <td>negative</td>\n",
              "      <td>1.0000</td>\n",
              "      <td>Bad Flight</td>\n",
              "      <td>0.7033</td>\n",
              "      <td>Virgin America</td>\n",
              "      <td>NaN</td>\n",
              "      <td>jnardino</td>\n",
              "      <td>NaN</td>\n",
              "      <td>0</td>\n",
              "      <td>@VirginAmerica it's really aggressive to blast...</td>\n",
              "      <td>NaN</td>\n",
              "      <td>2015-02-24 11:15:36 -0800</td>\n",
              "      <td>NaN</td>\n",
              "      <td>Pacific Time (US &amp; Canada)</td>\n",
              "    </tr>\n",
              "    <tr>\n",
              "      <th>4</th>\n",
              "      <td>570300817074462722</td>\n",
              "      <td>negative</td>\n",
              "      <td>1.0000</td>\n",
              "      <td>Can't Tell</td>\n",
              "      <td>1.0000</td>\n",
              "      <td>Virgin America</td>\n",
              "      <td>NaN</td>\n",
              "      <td>jnardino</td>\n",
              "      <td>NaN</td>\n",
              "      <td>0</td>\n",
              "      <td>@VirginAmerica and it's a really big bad thing...</td>\n",
              "      <td>NaN</td>\n",
              "      <td>2015-02-24 11:14:45 -0800</td>\n",
              "      <td>NaN</td>\n",
              "      <td>Pacific Time (US &amp; Canada)</td>\n",
              "    </tr>\n",
              "  </tbody>\n",
              "</table>\n",
              "</div>\n",
              "      <button class=\"colab-df-convert\" onclick=\"convertToInteractive('df-c6efc7a8-834b-40af-a4a5-2e3ab99edadc')\"\n",
              "              title=\"Convert this dataframe to an interactive table.\"\n",
              "              style=\"display:none;\">\n",
              "        \n",
              "  <svg xmlns=\"http://www.w3.org/2000/svg\" height=\"24px\"viewBox=\"0 0 24 24\"\n",
              "       width=\"24px\">\n",
              "    <path d=\"M0 0h24v24H0V0z\" fill=\"none\"/>\n",
              "    <path d=\"M18.56 5.44l.94 2.06.94-2.06 2.06-.94-2.06-.94-.94-2.06-.94 2.06-2.06.94zm-11 1L8.5 8.5l.94-2.06 2.06-.94-2.06-.94L8.5 2.5l-.94 2.06-2.06.94zm10 10l.94 2.06.94-2.06 2.06-.94-2.06-.94-.94-2.06-.94 2.06-2.06.94z\"/><path d=\"M17.41 7.96l-1.37-1.37c-.4-.4-.92-.59-1.43-.59-.52 0-1.04.2-1.43.59L10.3 9.45l-7.72 7.72c-.78.78-.78 2.05 0 2.83L4 21.41c.39.39.9.59 1.41.59.51 0 1.02-.2 1.41-.59l7.78-7.78 2.81-2.81c.8-.78.8-2.07 0-2.86zM5.41 20L4 18.59l7.72-7.72 1.47 1.35L5.41 20z\"/>\n",
              "  </svg>\n",
              "      </button>\n",
              "      \n",
              "  <style>\n",
              "    .colab-df-container {\n",
              "      display:flex;\n",
              "      flex-wrap:wrap;\n",
              "      gap: 12px;\n",
              "    }\n",
              "\n",
              "    .colab-df-convert {\n",
              "      background-color: #E8F0FE;\n",
              "      border: none;\n",
              "      border-radius: 50%;\n",
              "      cursor: pointer;\n",
              "      display: none;\n",
              "      fill: #1967D2;\n",
              "      height: 32px;\n",
              "      padding: 0 0 0 0;\n",
              "      width: 32px;\n",
              "    }\n",
              "\n",
              "    .colab-df-convert:hover {\n",
              "      background-color: #E2EBFA;\n",
              "      box-shadow: 0px 1px 2px rgba(60, 64, 67, 0.3), 0px 1px 3px 1px rgba(60, 64, 67, 0.15);\n",
              "      fill: #174EA6;\n",
              "    }\n",
              "\n",
              "    [theme=dark] .colab-df-convert {\n",
              "      background-color: #3B4455;\n",
              "      fill: #D2E3FC;\n",
              "    }\n",
              "\n",
              "    [theme=dark] .colab-df-convert:hover {\n",
              "      background-color: #434B5C;\n",
              "      box-shadow: 0px 1px 3px 1px rgba(0, 0, 0, 0.15);\n",
              "      filter: drop-shadow(0px 1px 2px rgba(0, 0, 0, 0.3));\n",
              "      fill: #FFFFFF;\n",
              "    }\n",
              "  </style>\n",
              "\n",
              "      <script>\n",
              "        const buttonEl =\n",
              "          document.querySelector('#df-c6efc7a8-834b-40af-a4a5-2e3ab99edadc button.colab-df-convert');\n",
              "        buttonEl.style.display =\n",
              "          google.colab.kernel.accessAllowed ? 'block' : 'none';\n",
              "\n",
              "        async function convertToInteractive(key) {\n",
              "          const element = document.querySelector('#df-c6efc7a8-834b-40af-a4a5-2e3ab99edadc');\n",
              "          const dataTable =\n",
              "            await google.colab.kernel.invokeFunction('convertToInteractive',\n",
              "                                                     [key], {});\n",
              "          if (!dataTable) return;\n",
              "\n",
              "          const docLinkHtml = 'Like what you see? Visit the ' +\n",
              "            '<a target=\"_blank\" href=https://colab.research.google.com/notebooks/data_table.ipynb>data table notebook</a>'\n",
              "            + ' to learn more about interactive tables.';\n",
              "          element.innerHTML = '';\n",
              "          dataTable['output_type'] = 'display_data';\n",
              "          await google.colab.output.renderOutput(dataTable, element);\n",
              "          const docLink = document.createElement('div');\n",
              "          docLink.innerHTML = docLinkHtml;\n",
              "          element.appendChild(docLink);\n",
              "        }\n",
              "      </script>\n",
              "    </div>\n",
              "  </div>\n",
              "  "
            ]
          },
          "metadata": {},
          "execution_count": 3
        }
      ]
    },
    {
      "cell_type": "code",
      "source": [
        "# descriptive analysis\n",
        "data.info()"
      ],
      "metadata": {
        "colab": {
          "base_uri": "https://localhost:8080/"
        },
        "id": "vXtdp-d1HcIZ",
        "outputId": "b9c84f8a-db22-4c9b-8e5a-3396804a83b4"
      },
      "execution_count": 4,
      "outputs": [
        {
          "output_type": "stream",
          "name": "stdout",
          "text": [
            "<class 'pandas.core.frame.DataFrame'>\n",
            "RangeIndex: 14640 entries, 0 to 14639\n",
            "Data columns (total 15 columns):\n",
            " #   Column                        Non-Null Count  Dtype  \n",
            "---  ------                        --------------  -----  \n",
            " 0   tweet_id                      14640 non-null  int64  \n",
            " 1   airline_sentiment             14640 non-null  object \n",
            " 2   airline_sentiment_confidence  14640 non-null  float64\n",
            " 3   negativereason                9178 non-null   object \n",
            " 4   negativereason_confidence     10522 non-null  float64\n",
            " 5   airline                       14640 non-null  object \n",
            " 6   airline_sentiment_gold        40 non-null     object \n",
            " 7   name                          14640 non-null  object \n",
            " 8   negativereason_gold           32 non-null     object \n",
            " 9   retweet_count                 14640 non-null  int64  \n",
            " 10  text                          14640 non-null  object \n",
            " 11  tweet_coord                   1019 non-null   object \n",
            " 12  tweet_created                 14640 non-null  object \n",
            " 13  tweet_location                9907 non-null   object \n",
            " 14  user_timezone                 9820 non-null   object \n",
            "dtypes: float64(2), int64(2), object(11)\n",
            "memory usage: 1.7+ MB\n"
          ]
        }
      ]
    },
    {
      "cell_type": "code",
      "source": [
        "print(\"the shape of the dataset\", data.shape)\n",
        "print(\"the  null values of the dataset\" , data.isnull().sum().sum())"
      ],
      "metadata": {
        "colab": {
          "base_uri": "https://localhost:8080/"
        },
        "id": "BEWd19WoHyna",
        "outputId": "a477b877-6db9-4b08-cc7b-063136b9d36c"
      },
      "execution_count": 8,
      "outputs": [
        {
          "output_type": "stream",
          "name": "stdout",
          "text": [
            "the shape of the dataset (14640, 15)\n",
            "the  null values of the dataset 61962\n"
          ]
        }
      ]
    },
    {
      "cell_type": "code",
      "source": [
        "data.describe()"
      ],
      "metadata": {
        "colab": {
          "base_uri": "https://localhost:8080/",
          "height": 300
        },
        "id": "HI3-P_9OH2hI",
        "outputId": "d482135b-c0f1-4e4f-91e6-23e5a2bc492e"
      },
      "execution_count": 9,
      "outputs": [
        {
          "output_type": "execute_result",
          "data": {
            "text/plain": [
              "           tweet_id  airline_sentiment_confidence  negativereason_confidence  \\\n",
              "count  1.464000e+04                  14640.000000               10522.000000   \n",
              "mean   5.692184e+17                      0.900169                   0.638298   \n",
              "std    7.791112e+14                      0.162830                   0.330440   \n",
              "min    5.675883e+17                      0.335000                   0.000000   \n",
              "25%    5.685592e+17                      0.692300                   0.360600   \n",
              "50%    5.694779e+17                      1.000000                   0.670600   \n",
              "75%    5.698905e+17                      1.000000                   1.000000   \n",
              "max    5.703106e+17                      1.000000                   1.000000   \n",
              "\n",
              "       retweet_count  \n",
              "count   14640.000000  \n",
              "mean        0.082650  \n",
              "std         0.745778  \n",
              "min         0.000000  \n",
              "25%         0.000000  \n",
              "50%         0.000000  \n",
              "75%         0.000000  \n",
              "max        44.000000  "
            ],
            "text/html": [
              "\n",
              "  <div id=\"df-7b74d09b-a996-4ed0-a7b0-a69b88d35c03\">\n",
              "    <div class=\"colab-df-container\">\n",
              "      <div>\n",
              "<style scoped>\n",
              "    .dataframe tbody tr th:only-of-type {\n",
              "        vertical-align: middle;\n",
              "    }\n",
              "\n",
              "    .dataframe tbody tr th {\n",
              "        vertical-align: top;\n",
              "    }\n",
              "\n",
              "    .dataframe thead th {\n",
              "        text-align: right;\n",
              "    }\n",
              "</style>\n",
              "<table border=\"1\" class=\"dataframe\">\n",
              "  <thead>\n",
              "    <tr style=\"text-align: right;\">\n",
              "      <th></th>\n",
              "      <th>tweet_id</th>\n",
              "      <th>airline_sentiment_confidence</th>\n",
              "      <th>negativereason_confidence</th>\n",
              "      <th>retweet_count</th>\n",
              "    </tr>\n",
              "  </thead>\n",
              "  <tbody>\n",
              "    <tr>\n",
              "      <th>count</th>\n",
              "      <td>1.464000e+04</td>\n",
              "      <td>14640.000000</td>\n",
              "      <td>10522.000000</td>\n",
              "      <td>14640.000000</td>\n",
              "    </tr>\n",
              "    <tr>\n",
              "      <th>mean</th>\n",
              "      <td>5.692184e+17</td>\n",
              "      <td>0.900169</td>\n",
              "      <td>0.638298</td>\n",
              "      <td>0.082650</td>\n",
              "    </tr>\n",
              "    <tr>\n",
              "      <th>std</th>\n",
              "      <td>7.791112e+14</td>\n",
              "      <td>0.162830</td>\n",
              "      <td>0.330440</td>\n",
              "      <td>0.745778</td>\n",
              "    </tr>\n",
              "    <tr>\n",
              "      <th>min</th>\n",
              "      <td>5.675883e+17</td>\n",
              "      <td>0.335000</td>\n",
              "      <td>0.000000</td>\n",
              "      <td>0.000000</td>\n",
              "    </tr>\n",
              "    <tr>\n",
              "      <th>25%</th>\n",
              "      <td>5.685592e+17</td>\n",
              "      <td>0.692300</td>\n",
              "      <td>0.360600</td>\n",
              "      <td>0.000000</td>\n",
              "    </tr>\n",
              "    <tr>\n",
              "      <th>50%</th>\n",
              "      <td>5.694779e+17</td>\n",
              "      <td>1.000000</td>\n",
              "      <td>0.670600</td>\n",
              "      <td>0.000000</td>\n",
              "    </tr>\n",
              "    <tr>\n",
              "      <th>75%</th>\n",
              "      <td>5.698905e+17</td>\n",
              "      <td>1.000000</td>\n",
              "      <td>1.000000</td>\n",
              "      <td>0.000000</td>\n",
              "    </tr>\n",
              "    <tr>\n",
              "      <th>max</th>\n",
              "      <td>5.703106e+17</td>\n",
              "      <td>1.000000</td>\n",
              "      <td>1.000000</td>\n",
              "      <td>44.000000</td>\n",
              "    </tr>\n",
              "  </tbody>\n",
              "</table>\n",
              "</div>\n",
              "      <button class=\"colab-df-convert\" onclick=\"convertToInteractive('df-7b74d09b-a996-4ed0-a7b0-a69b88d35c03')\"\n",
              "              title=\"Convert this dataframe to an interactive table.\"\n",
              "              style=\"display:none;\">\n",
              "        \n",
              "  <svg xmlns=\"http://www.w3.org/2000/svg\" height=\"24px\"viewBox=\"0 0 24 24\"\n",
              "       width=\"24px\">\n",
              "    <path d=\"M0 0h24v24H0V0z\" fill=\"none\"/>\n",
              "    <path d=\"M18.56 5.44l.94 2.06.94-2.06 2.06-.94-2.06-.94-.94-2.06-.94 2.06-2.06.94zm-11 1L8.5 8.5l.94-2.06 2.06-.94-2.06-.94L8.5 2.5l-.94 2.06-2.06.94zm10 10l.94 2.06.94-2.06 2.06-.94-2.06-.94-.94-2.06-.94 2.06-2.06.94z\"/><path d=\"M17.41 7.96l-1.37-1.37c-.4-.4-.92-.59-1.43-.59-.52 0-1.04.2-1.43.59L10.3 9.45l-7.72 7.72c-.78.78-.78 2.05 0 2.83L4 21.41c.39.39.9.59 1.41.59.51 0 1.02-.2 1.41-.59l7.78-7.78 2.81-2.81c.8-.78.8-2.07 0-2.86zM5.41 20L4 18.59l7.72-7.72 1.47 1.35L5.41 20z\"/>\n",
              "  </svg>\n",
              "      </button>\n",
              "      \n",
              "  <style>\n",
              "    .colab-df-container {\n",
              "      display:flex;\n",
              "      flex-wrap:wrap;\n",
              "      gap: 12px;\n",
              "    }\n",
              "\n",
              "    .colab-df-convert {\n",
              "      background-color: #E8F0FE;\n",
              "      border: none;\n",
              "      border-radius: 50%;\n",
              "      cursor: pointer;\n",
              "      display: none;\n",
              "      fill: #1967D2;\n",
              "      height: 32px;\n",
              "      padding: 0 0 0 0;\n",
              "      width: 32px;\n",
              "    }\n",
              "\n",
              "    .colab-df-convert:hover {\n",
              "      background-color: #E2EBFA;\n",
              "      box-shadow: 0px 1px 2px rgba(60, 64, 67, 0.3), 0px 1px 3px 1px rgba(60, 64, 67, 0.15);\n",
              "      fill: #174EA6;\n",
              "    }\n",
              "\n",
              "    [theme=dark] .colab-df-convert {\n",
              "      background-color: #3B4455;\n",
              "      fill: #D2E3FC;\n",
              "    }\n",
              "\n",
              "    [theme=dark] .colab-df-convert:hover {\n",
              "      background-color: #434B5C;\n",
              "      box-shadow: 0px 1px 3px 1px rgba(0, 0, 0, 0.15);\n",
              "      filter: drop-shadow(0px 1px 2px rgba(0, 0, 0, 0.3));\n",
              "      fill: #FFFFFF;\n",
              "    }\n",
              "  </style>\n",
              "\n",
              "      <script>\n",
              "        const buttonEl =\n",
              "          document.querySelector('#df-7b74d09b-a996-4ed0-a7b0-a69b88d35c03 button.colab-df-convert');\n",
              "        buttonEl.style.display =\n",
              "          google.colab.kernel.accessAllowed ? 'block' : 'none';\n",
              "\n",
              "        async function convertToInteractive(key) {\n",
              "          const element = document.querySelector('#df-7b74d09b-a996-4ed0-a7b0-a69b88d35c03');\n",
              "          const dataTable =\n",
              "            await google.colab.kernel.invokeFunction('convertToInteractive',\n",
              "                                                     [key], {});\n",
              "          if (!dataTable) return;\n",
              "\n",
              "          const docLinkHtml = 'Like what you see? Visit the ' +\n",
              "            '<a target=\"_blank\" href=https://colab.research.google.com/notebooks/data_table.ipynb>data table notebook</a>'\n",
              "            + ' to learn more about interactive tables.';\n",
              "          element.innerHTML = '';\n",
              "          dataTable['output_type'] = 'display_data';\n",
              "          await google.colab.output.renderOutput(dataTable, element);\n",
              "          const docLink = document.createElement('div');\n",
              "          docLink.innerHTML = docLinkHtml;\n",
              "          element.appendChild(docLink);\n",
              "        }\n",
              "      </script>\n",
              "    </div>\n",
              "  </div>\n",
              "  "
            ]
          },
          "metadata": {},
          "execution_count": 9
        }
      ]
    },
    {
      "cell_type": "code",
      "source": [
        "#checking the target values\n",
        "data.airline_sentiment.unique()"
      ],
      "metadata": {
        "colab": {
          "base_uri": "https://localhost:8080/"
        },
        "id": "EFAdlG9vIMDj",
        "outputId": "68131cdd-49aa-49fc-92ae-1030dad2de0e"
      },
      "execution_count": 10,
      "outputs": [
        {
          "output_type": "execute_result",
          "data": {
            "text/plain": [
              "array(['neutral', 'positive', 'negative'], dtype=object)"
            ]
          },
          "metadata": {},
          "execution_count": 10
        }
      ]
    },
    {
      "cell_type": "code",
      "source": [
        "ax = sns.countplot(x=\"airline_sentiment\", data=data)"
      ],
      "metadata": {
        "colab": {
          "base_uri": "https://localhost:8080/",
          "height": 450
        },
        "id": "CG5StP5FIaV1",
        "outputId": "3d7e587b-ed21-4881-b5ad-be51e420839f"
      },
      "execution_count": 12,
      "outputs": [
        {
          "output_type": "display_data",
          "data": {
            "text/plain": [
              "<Figure size 640x480 with 1 Axes>"
            ],
            "image/png": "[encoded data removed]"
          },
          "metadata": {}
        }
      ]
    },
    {
      "cell_type": "code",
      "source": [
        "ax1 = sns.countplot(x=data['airline'])"
      ],
      "metadata": {
        "colab": {
          "base_uri": "https://localhost:8080/",
          "height": 454
        },
        "id": "BuPezxZmIuRz",
        "outputId": "a1b56bd9-305b-4cdd-dbc6-f1d98cb936ab"
      },
      "execution_count": 13,
      "outputs": [
        {
          "output_type": "display_data",
          "data": {
            "text/plain": [
              "<Figure size 640x480 with 1 Axes>"
            ],
            "image/png": "[encoded data removed]"
          },
          "metadata": {}
        }
      ]
    },
    {
      "cell_type": "code",
      "source": [
        "import re, nltk\n",
        "nltk.download('punkt')"
      ],
      "metadata": {
        "colab": {
          "base_uri": "https://localhost:8080/"
        },
        "id": "4pnThUhAPR_z",
        "outputId": "a0aee526-4374-4995-879d-0626576bff3e"
      },
      "execution_count": 15,
      "outputs": [
        {
          "output_type": "stream",
          "name": "stderr",
          "text": [
            "[nltk_data] Downloading package punkt to /root/nltk_data...\n",
            "[nltk_data]   Unzipping tokenizers/punkt.zip.\n"
          ]
        },
        {
          "output_type": "execute_result",
          "data": {
            "text/plain": [
              "True"
            ]
          },
          "metadata": {},
          "execution_count": 15
        }
      ]
    },
    {
      "cell_type": "code",
      "source": [
        "## basic functions for  cleaning the text and prediction the\n",
        "## this is to check the tweet cleaning the data and removing the user first name\n",
        "import re\n",
        "\n",
        "def clean_tweet_text(text):\n",
        "  # tokens = nltk.word_tokenize(re.sub('[^a-zA-Z]',\" \",text))\n",
        "  # tokens = [token.lower() for token in tokens]\n",
        "  # return  ' '.join(tokens[2:])\n",
        "  tokens= nltk.word_tokenize(re.sub(\"[^a-zA-Z]\", \" \",text))\n",
        "  tokens = [token.lower() for token in tokens]\n",
        "  return ' '.join(tokens[2:])"
      ],
      "metadata": {
        "id": "ymLzeMzmJdID"
      },
      "execution_count": 28,
      "outputs": []
    },
    {
      "cell_type": "code",
      "source": [
        "from nltk.corpus import stopwords\n",
        "nltk.download('stopwords')\n"
      ],
      "metadata": {
        "colab": {
          "base_uri": "https://localhost:8080/"
        },
        "id": "JeU6L0GOTwmt",
        "outputId": "cb2d1c01-0e26-4cbb-8cdc-e3facb8ac5ea"
      },
      "execution_count": 16,
      "outputs": [
        {
          "output_type": "stream",
          "name": "stderr",
          "text": [
            "[nltk_data] Downloading package stopwords to /root/nltk_data...\n",
            "[nltk_data]   Unzipping corpora/stopwords.zip.\n"
          ]
        },
        {
          "output_type": "execute_result",
          "data": {
            "text/plain": [
              "True"
            ]
          },
          "metadata": {},
          "execution_count": 16
        }
      ]
    },
    {
      "cell_type": "code",
      "source": [
        "## removing and confirming the punchuvations are in the text or not\n",
        "import string\n",
        "def process_msg(msg):\n",
        "  nopunc = [chars for chars in msg if chars not in string.punctuation]\n",
        "  nopunc = ''.join(nopunc)\n",
        "  return  ' '.join([word for word  in nopunc.split() if word.lower() not in stopwords.words('english')])\n",
        "\n",
        "\n",
        "# def text_process(msg):\n",
        "#   nopunc =[char for char in msg if char not in string.punctuation]\n",
        "#   nopunc=''.join(nopunc)\n",
        "#   return ' '.join([word for word in nopunc.split() if word.lower() not in stopwords.words('english')])\n",
        "\n",
        "\n"
      ],
      "metadata": {
        "id": "jMDEwEZ2LVd9"
      },
      "execution_count": 18,
      "outputs": []
    },
    {
      "cell_type": "code",
      "source": [
        "from sklearn.model_selection import train_test_split, StratifiedKFold, cross_val_score\n",
        "from sklearn import model_selection, naive_bayes, svm\n",
        "from sklearn.metrics import classification_report,confusion_matrix\n",
        "from sklearn.metrics import roc_auc_score\n",
        "from sklearn.metrics import recall_score\n",
        "from sklearn.metrics import f1_score\n",
        "from sklearn.metrics import confusion_matrix, accuracy_score\n",
        "from sklearn.model_selection import GridSearchCV\n",
        "from sklearn.metrics import precision_recall_curve\n",
        "from sklearn.metrics import f1_score\n",
        "from sklearn.metrics import auc\n",
        "from matplotlib import pyplot\n",
        "from sklearn.metrics import roc_curve\n",
        "from sklearn.metrics import roc_auc_score, accuracy_score"
      ],
      "metadata": {
        "id": "5CFVdAwYUlZD"
      },
      "execution_count": 19,
      "outputs": []
    },
    {
      "cell_type": "code",
      "source": [
        "## genreating the genral function for the model so we can try many model\n",
        "def check_scores(clf,X_train, X_test, y_train, y_test):\n",
        "\n",
        "  model=clf.fit(X_train, y_train)\n",
        "  predicted_class=model.predict(X_test)\n",
        "  predicted_class_train=model.predict(X_train)\n",
        "  test_probs = model.predict_proba(X_test)\n",
        "  test_probs = test_probs[:, 1]\n",
        "  yhat = model.predict(X_test)\n",
        "  lr_precision, lr_recall, _ = precision_recall_curve(y_test, test_probs)\n",
        "  lr_f1, lr_auc = f1_score(y_test, yhat), auc(lr_recall, lr_precision)\n",
        "\n",
        "\n",
        "  print('Train confusion matrix is: ',)\n",
        "  print(confusion_matrix(y_train, predicted_class_train))\n",
        "\n",
        "  print()\n",
        "  print('Test confusion matrix is: ')\n",
        "  print(confusion_matrix(y_test, predicted_class))\n",
        "  print()\n",
        "  print(classification_report(y_test,predicted_class))\n",
        "  print()\n",
        "  train_accuracy = accuracy_score(y_train,predicted_class_train)\n",
        "  test_accuracy = accuracy_score(y_test,predicted_class)\n",
        "\n",
        "  print(\"Train accuracy score: \", train_accuracy)\n",
        "  print(\"Test accuracy score: \",test_accuracy )\n",
        "  print()\n",
        "  train_auc = roc_auc_score(y_train, clf.predict_proba(X_train)[:,1])\n",
        "  test_auc = roc_auc_score(y_test, clf.predict_proba(X_test)[:,1])\n",
        "\n",
        "  print(\"Train ROC-AUC score: \", train_auc)\n",
        "  print(\"Test ROC-AUC score: \", test_auc)\n",
        "  fig, (ax1, ax2) = plt.subplots(1, 2)\n",
        "\n",
        "  ax1.plot(lr_recall, lr_precision)\n",
        "  ax1.set(xlabel=\"Recall\", ylabel=\"Precision\")\n",
        "\n",
        "  plt.subplots_adjust(left=0.5,\n",
        "                    bottom=0.1,\n",
        "                    right=1.5,\n",
        "                    top=0.9,\n",
        "                    wspace=0.4,\n",
        "                    hspace=0.4)\n",
        "  print()\n",
        "  print('Are under Precision-Recall curve:', lr_f1)\n",
        "\n",
        "  fpr, tpr, _ = roc_curve(y_test, test_probs)\n",
        "\n",
        "\n",
        "  ax2.plot(fpr, tpr)\n",
        "  ax2.set(xlabel='False Positive Rate', ylabel='True Positive Rate')\n",
        "\n",
        "  print(\"Area under ROC-AUC:\", lr_auc)\n",
        "  return train_accuracy, test_accuracy, train_auc, test_auc\n"
      ],
      "metadata": {
        "id": "arHsJD8aUN43"
      },
      "execution_count": 20,
      "outputs": []
    },
    {
      "cell_type": "code",
      "source": [],
      "metadata": {
        "id": "A43iGLa2VOmN"
      },
      "execution_count": null,
      "outputs": []
    },
    {
      "cell_type": "code",
      "source": [
        "## hyper parameter tunnnig using the grid searchCV method\n",
        "\n",
        "def grid_search(model, parameters, X_train, Y_train):\n",
        "  #Doing a grid\n",
        "  grid = GridSearchCV(estimator=model,\n",
        "                       param_grid = parameters,\n",
        "                       cv = 2, verbose=2, scoring='roc_auc')\n",
        "  #Fitting the grid\n",
        "  grid.fit(X_train,Y_train)\n",
        "  print()\n",
        "  print()\n",
        "  # Best model found using grid search\n",
        "  optimal_model = grid.best_estimator_\n",
        "  print('Best parameters are: ')\n",
        "  print( grid.best_params_)\n",
        "\n",
        "  return optimal_model"
      ],
      "metadata": {
        "id": "IiadsFf1U7gK"
      },
      "execution_count": 21,
      "outputs": []
    },
    {
      "cell_type": "markdown",
      "source": [
        "<h1> Text Perpretaation"
      ],
      "metadata": {
        "id": "DIDqEVqoVkNd"
      }
    },
    {
      "cell_type": "code",
      "source": [
        "datanoneu = data[data['airline_sentiment'] !='neutral']"
      ],
      "metadata": {
        "id": "hSMagUQNVUWV"
      },
      "execution_count": 33,
      "outputs": []
    },
    {
      "cell_type": "code",
      "source": [
        "datanoneu.airline_sentiment.unique()"
      ],
      "metadata": {
        "colab": {
          "base_uri": "https://localhost:8080/"
        },
        "id": "09ZvvV8FV2Yy",
        "outputId": "a3d50e23-ee2b-48e2-8015-2bdf75368762"
      },
      "execution_count": 34,
      "outputs": [
        {
          "output_type": "execute_result",
          "data": {
            "text/plain": [
              "array(['positive', 'negative'], dtype=object)"
            ]
          },
          "metadata": {},
          "execution_count": 34
        }
      ]
    },
    {
      "cell_type": "code",
      "source": [
        "datanoneu['cleaned_tweet'] = datanoneu['text'].apply(clean_tweet_text)\n",
        "datanoneu.head()"
      ],
      "metadata": {
        "colab": {
          "base_uri": "https://localhost:8080/",
          "height": 617
        },
        "id": "DF7HFHE4V4hx",
        "outputId": "ca35d150-c3ff-49fb-e786-95c00f941f3c"
      },
      "execution_count": 35,
      "outputs": [
        {
          "output_type": "stream",
          "name": "stderr",
          "text": [
            "<ipython-input-35-6f0a0401eea9>:1: SettingWithCopyWarning: \n",
            "A value is trying to be set on a copy of a slice from a DataFrame.\n",
            "Try using .loc[row_indexer,col_indexer] = value instead\n",
            "\n",
            "See the caveats in the documentation: https://pandas.pydata.org/pandas-docs/stable/user_guide/indexing.html#returning-a-view-versus-a-copy\n",
            "  datanoneu['cleaned_tweet'] = datanoneu['text'].apply(clean_tweet_text)\n"
          ]
        },
        {
          "output_type": "execute_result",
          "data": {
            "text/plain": [
              "             tweet_id airline_sentiment  airline_sentiment_confidence  \\\n",
              "1  570301130888122368          positive                        0.3486   \n",
              "3  570301031407624196          negative                        1.0000   \n",
              "4  570300817074462722          negative                        1.0000   \n",
              "5  570300767074181121          negative                        1.0000   \n",
              "6  570300616901320704          positive                        0.6745   \n",
              "\n",
              "  negativereason  negativereason_confidence         airline  \\\n",
              "1            NaN                     0.0000  Virgin America   \n",
              "3     Bad Flight                     0.7033  Virgin America   \n",
              "4     Can't Tell                     1.0000  Virgin America   \n",
              "5     Can't Tell                     0.6842  Virgin America   \n",
              "6            NaN                     0.0000  Virgin America   \n",
              "\n",
              "  airline_sentiment_gold        name negativereason_gold  retweet_count  \\\n",
              "1                    NaN    jnardino                 NaN              0   \n",
              "3                    NaN    jnardino                 NaN              0   \n",
              "4                    NaN    jnardino                 NaN              0   \n",
              "5                    NaN    jnardino                 NaN              0   \n",
              "6                    NaN  cjmcginnis                 NaN              0   \n",
              "\n",
              "                                                text tweet_coord  \\\n",
              "1  @VirginAmerica plus you've added commercials t...         NaN   \n",
              "3  @VirginAmerica it's really aggressive to blast...         NaN   \n",
              "4  @VirginAmerica and it's a really big bad thing...         NaN   \n",
              "5  @VirginAmerica seriously would pay $30 a fligh...         NaN   \n",
              "6  @VirginAmerica yes, nearly every time I fly VX...         NaN   \n",
              "\n",
              "               tweet_created    tweet_location               user_timezone  \\\n",
              "1  2015-02-24 11:15:59 -0800               NaN  Pacific Time (US & Canada)   \n",
              "3  2015-02-24 11:15:36 -0800               NaN  Pacific Time (US & Canada)   \n",
              "4  2015-02-24 11:14:45 -0800               NaN  Pacific Time (US & Canada)   \n",
              "5  2015-02-24 11:14:33 -0800               NaN  Pacific Time (US & Canada)   \n",
              "6  2015-02-24 11:13:57 -0800  San Francisco CA  Pacific Time (US & Canada)   \n",
              "\n",
              "                                       cleaned_tweet  \n",
              "1   you ve added commercials to the experience tacky  \n",
              "3  s really aggressive to blast obnoxious enterta...  \n",
              "4               it s a really big bad thing about it  \n",
              "5  would pay a flight for seats that didn t have ...  \n",
              "6  nearly every time i fly vx this ear worm won t...  "
            ],
            "text/html": [
              "\n",
              "  <div id=\"df-e0a83fab-d5e8-4e1c-a260-ad28d15c3b1d\">\n",
              "    <div class=\"colab-df-container\">\n",
              "      <div>\n",
              "<style scoped>\n",
              "    .dataframe tbody tr th:only-of-type {\n",
              "        vertical-align: middle;\n",
              "    }\n",
              "\n",
              "    .dataframe tbody tr th {\n",
              "        vertical-align: top;\n",
              "    }\n",
              "\n",
              "    .dataframe thead th {\n",
              "        text-align: right;\n",
              "    }\n",
              "</style>\n",
              "<table border=\"1\" class=\"dataframe\">\n",
              "  <thead>\n",
              "    <tr style=\"text-align: right;\">\n",
              "      <th></th>\n",
              "      <th>tweet_id</th>\n",
              "      <th>airline_sentiment</th>\n",
              "      <th>airline_sentiment_confidence</th>\n",
              "      <th>negativereason</th>\n",
              "      <th>negativereason_confidence</th>\n",
              "      <th>airline</th>\n",
              "      <th>airline_sentiment_gold</th>\n",
              "      <th>name</th>\n",
              "      <th>negativereason_gold</th>\n",
              "      <th>retweet_count</th>\n",
              "      <th>text</th>\n",
              "      <th>tweet_coord</th>\n",
              "      <th>tweet_created</th>\n",
              "      <th>tweet_location</th>\n",
              "      <th>user_timezone</th>\n",
              "      <th>cleaned_tweet</th>\n",
              "    </tr>\n",
              "  </thead>\n",
              "  <tbody>\n",
              "    <tr>\n",
              "      <th>1</th>\n",
              "      <td>570301130888122368</td>\n",
              "      <td>positive</td>\n",
              "      <td>0.3486</td>\n",
              "      <td>NaN</td>\n",
              "      <td>0.0000</td>\n",
              "      <td>Virgin America</td>\n",
              "      <td>NaN</td>\n",
              "      <td>jnardino</td>\n",
              "      <td>NaN</td>\n",
              "      <td>0</td>\n",
              "      <td>@VirginAmerica plus you've added commercials t...</td>\n",
              "      <td>NaN</td>\n",
              "      <td>2015-02-24 11:15:59 -0800</td>\n",
              "      <td>NaN</td>\n",
              "      <td>Pacific Time (US &amp; Canada)</td>\n",
              "      <td>you ve added commercials to the experience tacky</td>\n",
              "    </tr>\n",
              "    <tr>\n",
              "      <th>3</th>\n",
              "      <td>570301031407624196</td>\n",
              "      <td>negative</td>\n",
              "      <td>1.0000</td>\n",
              "      <td>Bad Flight</td>\n",
              "      <td>0.7033</td>\n",
              "      <td>Virgin America</td>\n",
              "      <td>NaN</td>\n",
              "      <td>jnardino</td>\n",
              "      <td>NaN</td>\n",
              "      <td>0</td>\n",
              "      <td>@VirginAmerica it's really aggressive to blast...</td>\n",
              "      <td>NaN</td>\n",
              "      <td>2015-02-24 11:15:36 -0800</td>\n",
              "      <td>NaN</td>\n",
              "      <td>Pacific Time (US &amp; Canada)</td>\n",
              "      <td>s really aggressive to blast obnoxious enterta...</td>\n",
              "    </tr>\n",
              "    <tr>\n",
              "      <th>4</th>\n",
              "      <td>570300817074462722</td>\n",
              "      <td>negative</td>\n",
              "      <td>1.0000</td>\n",
              "      <td>Can't Tell</td>\n",
              "      <td>1.0000</td>\n",
              "      <td>Virgin America</td>\n",
              "      <td>NaN</td>\n",
              "      <td>jnardino</td>\n",
              "      <td>NaN</td>\n",
              "      <td>0</td>\n",
              "      <td>@VirginAmerica and it's a really big bad thing...</td>\n",
              "      <td>NaN</td>\n",
              "      <td>2015-02-24 11:14:45 -0800</td>\n",
              "      <td>NaN</td>\n",
              "      <td>Pacific Time (US &amp; Canada)</td>\n",
              "      <td>it s a really big bad thing about it</td>\n",
              "    </tr>\n",
              "    <tr>\n",
              "      <th>5</th>\n",
              "      <td>570300767074181121</td>\n",
              "      <td>negative</td>\n",
              "      <td>1.0000</td>\n",
              "      <td>Can't Tell</td>\n",
              "      <td>0.6842</td>\n",
              "      <td>Virgin America</td>\n",
              "      <td>NaN</td>\n",
              "      <td>jnardino</td>\n",
              "      <td>NaN</td>\n",
              "      <td>0</td>\n",
              "      <td>@VirginAmerica seriously would pay $30 a fligh...</td>\n",
              "      <td>NaN</td>\n",
              "      <td>2015-02-24 11:14:33 -0800</td>\n",
              "      <td>NaN</td>\n",
              "      <td>Pacific Time (US &amp; Canada)</td>\n",
              "      <td>would pay a flight for seats that didn t have ...</td>\n",
              "    </tr>\n",
              "    <tr>\n",
              "      <th>6</th>\n",
              "      <td>570300616901320704</td>\n",
              "      <td>positive</td>\n",
              "      <td>0.6745</td>\n",
              "      <td>NaN</td>\n",
              "      <td>0.0000</td>\n",
              "      <td>Virgin America</td>\n",
              "      <td>NaN</td>\n",
              "      <td>cjmcginnis</td>\n",
              "      <td>NaN</td>\n",
              "      <td>0</td>\n",
              "      <td>@VirginAmerica yes, nearly every time I fly VX...</td>\n",
              "      <td>NaN</td>\n",
              "      <td>2015-02-24 11:13:57 -0800</td>\n",
              "      <td>San Francisco CA</td>\n",
              "      <td>Pacific Time (US &amp; Canada)</td>\n",
              "      <td>nearly every time i fly vx this ear worm won t...</td>\n",
              "    </tr>\n",
              "  </tbody>\n",
              "</table>\n",
              "</div>\n",
              "      <button class=\"colab-df-convert\" onclick=\"convertToInteractive('df-e0a83fab-d5e8-4e1c-a260-ad28d15c3b1d')\"\n",
              "              title=\"Convert this dataframe to an interactive table.\"\n",
              "              style=\"display:none;\">\n",
              "        \n",
              "  <svg xmlns=\"http://www.w3.org/2000/svg\" height=\"24px\"viewBox=\"0 0 24 24\"\n",
              "       width=\"24px\">\n",
              "    <path d=\"M0 0h24v24H0V0z\" fill=\"none\"/>\n",
              "    <path d=\"M18.56 5.44l.94 2.06.94-2.06 2.06-.94-2.06-.94-.94-2.06-.94 2.06-2.06.94zm-11 1L8.5 8.5l.94-2.06 2.06-.94-2.06-.94L8.5 2.5l-.94 2.06-2.06.94zm10 10l.94 2.06.94-2.06 2.06-.94-2.06-.94-.94-2.06-.94 2.06-2.06.94z\"/><path d=\"M17.41 7.96l-1.37-1.37c-.4-.4-.92-.59-1.43-.59-.52 0-1.04.2-1.43.59L10.3 9.45l-7.72 7.72c-.78.78-.78 2.05 0 2.83L4 21.41c.39.39.9.59 1.41.59.51 0 1.02-.2 1.41-.59l7.78-7.78 2.81-2.81c.8-.78.8-2.07 0-2.86zM5.41 20L4 18.59l7.72-7.72 1.47 1.35L5.41 20z\"/>\n",
              "  </svg>\n",
              "      </button>\n",
              "      \n",
              "  <style>\n",
              "    .colab-df-container {\n",
              "      display:flex;\n",
              "      flex-wrap:wrap;\n",
              "      gap: 12px;\n",
              "    }\n",
              "\n",
              "    .colab-df-convert {\n",
              "      background-color: #E8F0FE;\n",
              "      border: none;\n",
              "      border-radius: 50%;\n",
              "      cursor: pointer;\n",
              "      display: none;\n",
              "      fill: #1967D2;\n",
              "      height: 32px;\n",
              "      padding: 0 0 0 0;\n",
              "      width: 32px;\n",
              "    }\n",
              "\n",
              "    .colab-df-convert:hover {\n",
              "      background-color: #E2EBFA;\n",
              "      box-shadow: 0px 1px 2px rgba(60, 64, 67, 0.3), 0px 1px 3px 1px rgba(60, 64, 67, 0.15);\n",
              "      fill: #174EA6;\n",
              "    }\n",
              "\n",
              "    [theme=dark] .colab-df-convert {\n",
              "      background-color: #3B4455;\n",
              "      fill: #D2E3FC;\n",
              "    }\n",
              "\n",
              "    [theme=dark] .colab-df-convert:hover {\n",
              "      background-color: #434B5C;\n",
              "      box-shadow: 0px 1px 3px 1px rgba(0, 0, 0, 0.15);\n",
              "      filter: drop-shadow(0px 1px 2px rgba(0, 0, 0, 0.3));\n",
              "      fill: #FFFFFF;\n",
              "    }\n",
              "  </style>\n",
              "\n",
              "      <script>\n",
              "        const buttonEl =\n",
              "          document.querySelector('#df-e0a83fab-d5e8-4e1c-a260-ad28d15c3b1d button.colab-df-convert');\n",
              "        buttonEl.style.display =\n",
              "          google.colab.kernel.accessAllowed ? 'block' : 'none';\n",
              "\n",
              "        async function convertToInteractive(key) {\n",
              "          const element = document.querySelector('#df-e0a83fab-d5e8-4e1c-a260-ad28d15c3b1d');\n",
              "          const dataTable =\n",
              "            await google.colab.kernel.invokeFunction('convertToInteractive',\n",
              "                                                     [key], {});\n",
              "          if (!dataTable) return;\n",
              "\n",
              "          const docLinkHtml = 'Like what you see? Visit the ' +\n",
              "            '<a target=\"_blank\" href=https://colab.research.google.com/notebooks/data_table.ipynb>data table notebook</a>'\n",
              "            + ' to learn more about interactive tables.';\n",
              "          element.innerHTML = '';\n",
              "          dataTable['output_type'] = 'display_data';\n",
              "          await google.colab.output.renderOutput(dataTable, element);\n",
              "          const docLink = document.createElement('div');\n",
              "          docLink.innerHTML = docLinkHtml;\n",
              "          element.appendChild(docLink);\n",
              "        }\n",
              "      </script>\n",
              "    </div>\n",
              "  </div>\n",
              "  "
            ]
          },
          "metadata": {},
          "execution_count": 35
        }
      ]
    },
    {
      "cell_type": "code",
      "source": [
        "datanoneu['airline_sentiment'] = datanoneu['airline_sentiment'].apply(lambda x : 1 if x=='positive' else 0)\n",
        "datanoneu.head()"
      ],
      "metadata": {
        "colab": {
          "base_uri": "https://localhost:8080/",
          "height": 617
        },
        "id": "-2CMHy21WVYJ",
        "outputId": "a9b58497-9d8a-41e9-fe83-989584cd101e"
      },
      "execution_count": 36,
      "outputs": [
        {
          "output_type": "stream",
          "name": "stderr",
          "text": [
            "<ipython-input-36-7cd1e5b06f8d>:1: SettingWithCopyWarning: \n",
            "A value is trying to be set on a copy of a slice from a DataFrame.\n",
            "Try using .loc[row_indexer,col_indexer] = value instead\n",
            "\n",
            "See the caveats in the documentation: https://pandas.pydata.org/pandas-docs/stable/user_guide/indexing.html#returning-a-view-versus-a-copy\n",
            "  datanoneu['airline_sentiment'] = datanoneu['airline_sentiment'].apply(lambda x : 1 if x=='positive' else 0)\n"
          ]
        },
        {
          "output_type": "execute_result",
          "data": {
            "text/plain": [
              "             tweet_id  airline_sentiment  airline_sentiment_confidence  \\\n",
              "1  570301130888122368                  1                        0.3486   \n",
              "3  570301031407624196                  0                        1.0000   \n",
              "4  570300817074462722                  0                        1.0000   \n",
              "5  570300767074181121                  0                        1.0000   \n",
              "6  570300616901320704                  1                        0.6745   \n",
              "\n",
              "  negativereason  negativereason_confidence         airline  \\\n",
              "1            NaN                     0.0000  Virgin America   \n",
              "3     Bad Flight                     0.7033  Virgin America   \n",
              "4     Can't Tell                     1.0000  Virgin America   \n",
              "5     Can't Tell                     0.6842  Virgin America   \n",
              "6            NaN                     0.0000  Virgin America   \n",
              "\n",
              "  airline_sentiment_gold        name negativereason_gold  retweet_count  \\\n",
              "1                    NaN    jnardino                 NaN              0   \n",
              "3                    NaN    jnardino                 NaN              0   \n",
              "4                    NaN    jnardino                 NaN              0   \n",
              "5                    NaN    jnardino                 NaN              0   \n",
              "6                    NaN  cjmcginnis                 NaN              0   \n",
              "\n",
              "                                                text tweet_coord  \\\n",
              "1  @VirginAmerica plus you've added commercials t...         NaN   \n",
              "3  @VirginAmerica it's really aggressive to blast...         NaN   \n",
              "4  @VirginAmerica and it's a really big bad thing...         NaN   \n",
              "5  @VirginAmerica seriously would pay $30 a fligh...         NaN   \n",
              "6  @VirginAmerica yes, nearly every time I fly VX...         NaN   \n",
              "\n",
              "               tweet_created    tweet_location               user_timezone  \\\n",
              "1  2015-02-24 11:15:59 -0800               NaN  Pacific Time (US & Canada)   \n",
              "3  2015-02-24 11:15:36 -0800               NaN  Pacific Time (US & Canada)   \n",
              "4  2015-02-24 11:14:45 -0800               NaN  Pacific Time (US & Canada)   \n",
              "5  2015-02-24 11:14:33 -0800               NaN  Pacific Time (US & Canada)   \n",
              "6  2015-02-24 11:13:57 -0800  San Francisco CA  Pacific Time (US & Canada)   \n",
              "\n",
              "                                       cleaned_tweet  \n",
              "1   you ve added commercials to the experience tacky  \n",
              "3  s really aggressive to blast obnoxious enterta...  \n",
              "4               it s a really big bad thing about it  \n",
              "5  would pay a flight for seats that didn t have ...  \n",
              "6  nearly every time i fly vx this ear worm won t...  "
            ],
            "text/html": [
              "\n",
              "  <div id=\"df-9a122054-9f62-4734-8211-4b78a9ab37fc\">\n",
              "    <div class=\"colab-df-container\">\n",
              "      <div>\n",
              "<style scoped>\n",
              "    .dataframe tbody tr th:only-of-type {\n",
              "        vertical-align: middle;\n",
              "    }\n",
              "\n",
              "    .dataframe tbody tr th {\n",
              "        vertical-align: top;\n",
              "    }\n",
              "\n",
              "    .dataframe thead th {\n",
              "        text-align: right;\n",
              "    }\n",
              "</style>\n",
              "<table border=\"1\" class=\"dataframe\">\n",
              "  <thead>\n",
              "    <tr style=\"text-align: right;\">\n",
              "      <th></th>\n",
              "      <th>tweet_id</th>\n",
              "      <th>airline_sentiment</th>\n",
              "      <th>airline_sentiment_confidence</th>\n",
              "      <th>negativereason</th>\n",
              "      <th>negativereason_confidence</th>\n",
              "      <th>airline</th>\n",
              "      <th>airline_sentiment_gold</th>\n",
              "      <th>name</th>\n",
              "      <th>negativereason_gold</th>\n",
              "      <th>retweet_count</th>\n",
              "      <th>text</th>\n",
              "      <th>tweet_coord</th>\n",
              "      <th>tweet_created</th>\n",
              "      <th>tweet_location</th>\n",
              "      <th>user_timezone</th>\n",
              "      <th>cleaned_tweet</th>\n",
              "    </tr>\n",
              "  </thead>\n",
              "  <tbody>\n",
              "    <tr>\n",
              "      <th>1</th>\n",
              "      <td>570301130888122368</td>\n",
              "      <td>1</td>\n",
              "      <td>0.3486</td>\n",
              "      <td>NaN</td>\n",
              "      <td>0.0000</td>\n",
              "      <td>Virgin America</td>\n",
              "      <td>NaN</td>\n",
              "      <td>jnardino</td>\n",
              "      <td>NaN</td>\n",
              "      <td>0</td>\n",
              "      <td>@VirginAmerica plus you've added commercials t...</td>\n",
              "      <td>NaN</td>\n",
              "      <td>2015-02-24 11:15:59 -0800</td>\n",
              "      <td>NaN</td>\n",
              "      <td>Pacific Time (US &amp; Canada)</td>\n",
              "      <td>you ve added commercials to the experience tacky</td>\n",
              "    </tr>\n",
              "    <tr>\n",
              "      <th>3</th>\n",
              "      <td>570301031407624196</td>\n",
              "      <td>0</td>\n",
              "      <td>1.0000</td>\n",
              "      <td>Bad Flight</td>\n",
              "      <td>0.7033</td>\n",
              "      <td>Virgin America</td>\n",
              "      <td>NaN</td>\n",
              "      <td>jnardino</td>\n",
              "      <td>NaN</td>\n",
              "      <td>0</td>\n",
              "      <td>@VirginAmerica it's really aggressive to blast...</td>\n",
              "      <td>NaN</td>\n",
              "      <td>2015-02-24 11:15:36 -0800</td>\n",
              "      <td>NaN</td>\n",
              "      <td>Pacific Time (US &amp; Canada)</td>\n",
              "      <td>s really aggressive to blast obnoxious enterta...</td>\n",
              "    </tr>\n",
              "    <tr>\n",
              "      <th>4</th>\n",
              "      <td>570300817074462722</td>\n",
              "      <td>0</td>\n",
              "      <td>1.0000</td>\n",
              "      <td>Can't Tell</td>\n",
              "      <td>1.0000</td>\n",
              "      <td>Virgin America</td>\n",
              "      <td>NaN</td>\n",
              "      <td>jnardino</td>\n",
              "      <td>NaN</td>\n",
              "      <td>0</td>\n",
              "      <td>@VirginAmerica and it's a really big bad thing...</td>\n",
              "      <td>NaN</td>\n",
              "      <td>2015-02-24 11:14:45 -0800</td>\n",
              "      <td>NaN</td>\n",
              "      <td>Pacific Time (US &amp; Canada)</td>\n",
              "      <td>it s a really big bad thing about it</td>\n",
              "    </tr>\n",
              "    <tr>\n",
              "      <th>5</th>\n",
              "      <td>570300767074181121</td>\n",
              "      <td>0</td>\n",
              "      <td>1.0000</td>\n",
              "      <td>Can't Tell</td>\n",
              "      <td>0.6842</td>\n",
              "      <td>Virgin America</td>\n",
              "      <td>NaN</td>\n",
              "      <td>jnardino</td>\n",
              "      <td>NaN</td>\n",
              "      <td>0</td>\n",
              "      <td>@VirginAmerica seriously would pay $30 a fligh...</td>\n",
              "      <td>NaN</td>\n",
              "      <td>2015-02-24 11:14:33 -0800</td>\n",
              "      <td>NaN</td>\n",
              "      <td>Pacific Time (US &amp; Canada)</td>\n",
              "      <td>would pay a flight for seats that didn t have ...</td>\n",
              "    </tr>\n",
              "    <tr>\n",
              "      <th>6</th>\n",
              "      <td>570300616901320704</td>\n",
              "      <td>1</td>\n",
              "      <td>0.6745</td>\n",
              "      <td>NaN</td>\n",
              "      <td>0.0000</td>\n",
              "      <td>Virgin America</td>\n",
              "      <td>NaN</td>\n",
              "      <td>cjmcginnis</td>\n",
              "      <td>NaN</td>\n",
              "      <td>0</td>\n",
              "      <td>@VirginAmerica yes, nearly every time I fly VX...</td>\n",
              "      <td>NaN</td>\n",
              "      <td>2015-02-24 11:13:57 -0800</td>\n",
              "      <td>San Francisco CA</td>\n",
              "      <td>Pacific Time (US &amp; Canada)</td>\n",
              "      <td>nearly every time i fly vx this ear worm won t...</td>\n",
              "    </tr>\n",
              "  </tbody>\n",
              "</table>\n",
              "</div>\n",
              "      <button class=\"colab-df-convert\" onclick=\"convertToInteractive('df-9a122054-9f62-4734-8211-4b78a9ab37fc')\"\n",
              "              title=\"Convert this dataframe to an interactive table.\"\n",
              "              style=\"display:none;\">\n",
              "        \n",
              "  <svg xmlns=\"http://www.w3.org/2000/svg\" height=\"24px\"viewBox=\"0 0 24 24\"\n",
              "       width=\"24px\">\n",
              "    <path d=\"M0 0h24v24H0V0z\" fill=\"none\"/>\n",
              "    <path d=\"M18.56 5.44l.94 2.06.94-2.06 2.06-.94-2.06-.94-.94-2.06-.94 2.06-2.06.94zm-11 1L8.5 8.5l.94-2.06 2.06-.94-2.06-.94L8.5 2.5l-.94 2.06-2.06.94zm10 10l.94 2.06.94-2.06 2.06-.94-2.06-.94-.94-2.06-.94 2.06-2.06.94z\"/><path d=\"M17.41 7.96l-1.37-1.37c-.4-.4-.92-.59-1.43-.59-.52 0-1.04.2-1.43.59L10.3 9.45l-7.72 7.72c-.78.78-.78 2.05 0 2.83L4 21.41c.39.39.9.59 1.41.59.51 0 1.02-.2 1.41-.59l7.78-7.78 2.81-2.81c.8-.78.8-2.07 0-2.86zM5.41 20L4 18.59l7.72-7.72 1.47 1.35L5.41 20z\"/>\n",
              "  </svg>\n",
              "      </button>\n",
              "      \n",
              "  <style>\n",
              "    .colab-df-container {\n",
              "      display:flex;\n",
              "      flex-wrap:wrap;\n",
              "      gap: 12px;\n",
              "    }\n",
              "\n",
              "    .colab-df-convert {\n",
              "      background-color: #E8F0FE;\n",
              "      border: none;\n",
              "      border-radius: 50%;\n",
              "      cursor: pointer;\n",
              "      display: none;\n",
              "      fill: #1967D2;\n",
              "      height: 32px;\n",
              "      padding: 0 0 0 0;\n",
              "      width: 32px;\n",
              "    }\n",
              "\n",
              "    .colab-df-convert:hover {\n",
              "      background-color: #E2EBFA;\n",
              "      box-shadow: 0px 1px 2px rgba(60, 64, 67, 0.3), 0px 1px 3px 1px rgba(60, 64, 67, 0.15);\n",
              "      fill: #174EA6;\n",
              "    }\n",
              "\n",
              "    [theme=dark] .colab-df-convert {\n",
              "      background-color: #3B4455;\n",
              "      fill: #D2E3FC;\n",
              "    }\n",
              "\n",
              "    [theme=dark] .colab-df-convert:hover {\n",
              "      background-color: #434B5C;\n",
              "      box-shadow: 0px 1px 3px 1px rgba(0, 0, 0, 0.15);\n",
              "      filter: drop-shadow(0px 1px 2px rgba(0, 0, 0, 0.3));\n",
              "      fill: #FFFFFF;\n",
              "    }\n",
              "  </style>\n",
              "\n",
              "      <script>\n",
              "        const buttonEl =\n",
              "          document.querySelector('#df-9a122054-9f62-4734-8211-4b78a9ab37fc button.colab-df-convert');\n",
              "        buttonEl.style.display =\n",
              "          google.colab.kernel.accessAllowed ? 'block' : 'none';\n",
              "\n",
              "        async function convertToInteractive(key) {\n",
              "          const element = document.querySelector('#df-9a122054-9f62-4734-8211-4b78a9ab37fc');\n",
              "          const dataTable =\n",
              "            await google.colab.kernel.invokeFunction('convertToInteractive',\n",
              "                                                     [key], {});\n",
              "          if (!dataTable) return;\n",
              "\n",
              "          const docLinkHtml = 'Like what you see? Visit the ' +\n",
              "            '<a target=\"_blank\" href=https://colab.research.google.com/notebooks/data_table.ipynb>data table notebook</a>'\n",
              "            + ' to learn more about interactive tables.';\n",
              "          element.innerHTML = '';\n",
              "          dataTable['output_type'] = 'display_data';\n",
              "          await google.colab.output.renderOutput(dataTable, element);\n",
              "          const docLink = document.createElement('div');\n",
              "          docLink.innerHTML = docLinkHtml;\n",
              "          element.appendChild(docLink);\n",
              "        }\n",
              "      </script>\n",
              "    </div>\n",
              "  </div>\n",
              "  "
            ]
          },
          "metadata": {},
          "execution_count": 36
        }
      ]
    },
    {
      "cell_type": "markdown",
      "source": [],
      "metadata": {
        "id": "UVfUYIVDYleo"
      }
    },
    {
      "cell_type": "code",
      "source": [
        "def text_process(msg):\n",
        "  nopunc =[char for char in msg if char not in string.punctuation]\n",
        "  nopunc=''.join(nopunc)\n",
        "  return ' '.join([word for word in nopunc.split() if word.lower() not in stopwords.words('english')])"
      ],
      "metadata": {
        "id": "1dA6VrBmYl9r"
      },
      "execution_count": 37,
      "outputs": []
    },
    {
      "cell_type": "code",
      "source": [
        "datanoneu['cleaned_tweet'] = datanoneu['cleaned_tweet'].apply(text_process)\n",
        "datanoneu.reset_index(drop=True, inplace = True)\n",
        "datanoneu.head()"
      ],
      "metadata": {
        "colab": {
          "base_uri": "https://localhost:8080/",
          "height": 617
        },
        "id": "a5q-ogPdXePG",
        "outputId": "e23d7c7a-f77f-4dea-9e26-9c7d9fafe806"
      },
      "execution_count": 38,
      "outputs": [
        {
          "output_type": "stream",
          "name": "stderr",
          "text": [
            "<ipython-input-38-4980c3575eb2>:1: SettingWithCopyWarning: \n",
            "A value is trying to be set on a copy of a slice from a DataFrame.\n",
            "Try using .loc[row_indexer,col_indexer] = value instead\n",
            "\n",
            "See the caveats in the documentation: https://pandas.pydata.org/pandas-docs/stable/user_guide/indexing.html#returning-a-view-versus-a-copy\n",
            "  datanoneu['cleaned_tweet'] = datanoneu['cleaned_tweet'].apply(text_process)\n"
          ]
        },
        {
          "output_type": "execute_result",
          "data": {
            "text/plain": [
              "             tweet_id  airline_sentiment  airline_sentiment_confidence  \\\n",
              "0  570301130888122368                  1                        0.3486   \n",
              "1  570301031407624196                  0                        1.0000   \n",
              "2  570300817074462722                  0                        1.0000   \n",
              "3  570300767074181121                  0                        1.0000   \n",
              "4  570300616901320704                  1                        0.6745   \n",
              "\n",
              "  negativereason  negativereason_confidence         airline  \\\n",
              "0            NaN                     0.0000  Virgin America   \n",
              "1     Bad Flight                     0.7033  Virgin America   \n",
              "2     Can't Tell                     1.0000  Virgin America   \n",
              "3     Can't Tell                     0.6842  Virgin America   \n",
              "4            NaN                     0.0000  Virgin America   \n",
              "\n",
              "  airline_sentiment_gold        name negativereason_gold  retweet_count  \\\n",
              "0                    NaN    jnardino                 NaN              0   \n",
              "1                    NaN    jnardino                 NaN              0   \n",
              "2                    NaN    jnardino                 NaN              0   \n",
              "3                    NaN    jnardino                 NaN              0   \n",
              "4                    NaN  cjmcginnis                 NaN              0   \n",
              "\n",
              "                                                text tweet_coord  \\\n",
              "0  @VirginAmerica plus you've added commercials t...         NaN   \n",
              "1  @VirginAmerica it's really aggressive to blast...         NaN   \n",
              "2  @VirginAmerica and it's a really big bad thing...         NaN   \n",
              "3  @VirginAmerica seriously would pay $30 a fligh...         NaN   \n",
              "4  @VirginAmerica yes, nearly every time I fly VX...         NaN   \n",
              "\n",
              "               tweet_created    tweet_location               user_timezone  \\\n",
              "0  2015-02-24 11:15:59 -0800               NaN  Pacific Time (US & Canada)   \n",
              "1  2015-02-24 11:15:36 -0800               NaN  Pacific Time (US & Canada)   \n",
              "2  2015-02-24 11:14:45 -0800               NaN  Pacific Time (US & Canada)   \n",
              "3  2015-02-24 11:14:33 -0800               NaN  Pacific Time (US & Canada)   \n",
              "4  2015-02-24 11:13:57 -0800  San Francisco CA  Pacific Time (US & Canada)   \n",
              "\n",
              "                                       cleaned_tweet  \n",
              "0                 added commercials experience tacky  \n",
              "1  really aggressive blast obnoxious entertainmen...  \n",
              "2                               really big bad thing  \n",
              "3  would pay flight seats playing really bad thin...  \n",
              "4          nearly every time fly vx ear worm go away  "
            ],
            "text/html": [
              "\n",
              "  <div id=\"df-7485f0d9-353c-4eed-bb85-671d6ba7e7af\">\n",
              "    <div class=\"colab-df-container\">\n",
              "      <div>\n",
              "<style scoped>\n",
              "    .dataframe tbody tr th:only-of-type {\n",
              "        vertical-align: middle;\n",
              "    }\n",
              "\n",
              "    .dataframe tbody tr th {\n",
              "        vertical-align: top;\n",
              "    }\n",
              "\n",
              "    .dataframe thead th {\n",
              "        text-align: right;\n",
              "    }\n",
              "</style>\n",
              "<table border=\"1\" class=\"dataframe\">\n",
              "  <thead>\n",
              "    <tr style=\"text-align: right;\">\n",
              "      <th></th>\n",
              "      <th>tweet_id</th>\n",
              "      <th>airline_sentiment</th>\n",
              "      <th>airline_sentiment_confidence</th>\n",
              "      <th>negativereason</th>\n",
              "      <th>negativereason_confidence</th>\n",
              "      <th>airline</th>\n",
              "      <th>airline_sentiment_gold</th>\n",
              "      <th>name</th>\n",
              "      <th>negativereason_gold</th>\n",
              "      <th>retweet_count</th>\n",
              "      <th>text</th>\n",
              "      <th>tweet_coord</th>\n",
              "      <th>tweet_created</th>\n",
              "      <th>tweet_location</th>\n",
              "      <th>user_timezone</th>\n",
              "      <th>cleaned_tweet</th>\n",
              "    </tr>\n",
              "  </thead>\n",
              "  <tbody>\n",
              "    <tr>\n",
              "      <th>0</th>\n",
              "      <td>570301130888122368</td>\n",
              "      <td>1</td>\n",
              "      <td>0.3486</td>\n",
              "      <td>NaN</td>\n",
              "      <td>0.0000</td>\n",
              "      <td>Virgin America</td>\n",
              "      <td>NaN</td>\n",
              "      <td>jnardino</td>\n",
              "      <td>NaN</td>\n",
              "      <td>0</td>\n",
              "      <td>@VirginAmerica plus you've added commercials t...</td>\n",
              "      <td>NaN</td>\n",
              "      <td>2015-02-24 11:15:59 -0800</td>\n",
              "      <td>NaN</td>\n",
              "      <td>Pacific Time (US &amp; Canada)</td>\n",
              "      <td>added commercials experience tacky</td>\n",
              "    </tr>\n",
              "    <tr>\n",
              "      <th>1</th>\n",
              "      <td>570301031407624196</td>\n",
              "      <td>0</td>\n",
              "      <td>1.0000</td>\n",
              "      <td>Bad Flight</td>\n",
              "      <td>0.7033</td>\n",
              "      <td>Virgin America</td>\n",
              "      <td>NaN</td>\n",
              "      <td>jnardino</td>\n",
              "      <td>NaN</td>\n",
              "      <td>0</td>\n",
              "      <td>@VirginAmerica it's really aggressive to blast...</td>\n",
              "      <td>NaN</td>\n",
              "      <td>2015-02-24 11:15:36 -0800</td>\n",
              "      <td>NaN</td>\n",
              "      <td>Pacific Time (US &amp; Canada)</td>\n",
              "      <td>really aggressive blast obnoxious entertainmen...</td>\n",
              "    </tr>\n",
              "    <tr>\n",
              "      <th>2</th>\n",
              "      <td>570300817074462722</td>\n",
              "      <td>0</td>\n",
              "      <td>1.0000</td>\n",
              "      <td>Can't Tell</td>\n",
              "      <td>1.0000</td>\n",
              "      <td>Virgin America</td>\n",
              "      <td>NaN</td>\n",
              "      <td>jnardino</td>\n",
              "      <td>NaN</td>\n",
              "      <td>0</td>\n",
              "      <td>@VirginAmerica and it's a really big bad thing...</td>\n",
              "      <td>NaN</td>\n",
              "      <td>2015-02-24 11:14:45 -0800</td>\n",
              "      <td>NaN</td>\n",
              "      <td>Pacific Time (US &amp; Canada)</td>\n",
              "      <td>really big bad thing</td>\n",
              "    </tr>\n",
              "    <tr>\n",
              "      <th>3</th>\n",
              "      <td>570300767074181121</td>\n",
              "      <td>0</td>\n",
              "      <td>1.0000</td>\n",
              "      <td>Can't Tell</td>\n",
              "      <td>0.6842</td>\n",
              "      <td>Virgin America</td>\n",
              "      <td>NaN</td>\n",
              "      <td>jnardino</td>\n",
              "      <td>NaN</td>\n",
              "      <td>0</td>\n",
              "      <td>@VirginAmerica seriously would pay $30 a fligh...</td>\n",
              "      <td>NaN</td>\n",
              "      <td>2015-02-24 11:14:33 -0800</td>\n",
              "      <td>NaN</td>\n",
              "      <td>Pacific Time (US &amp; Canada)</td>\n",
              "      <td>would pay flight seats playing really bad thin...</td>\n",
              "    </tr>\n",
              "    <tr>\n",
              "      <th>4</th>\n",
              "      <td>570300616901320704</td>\n",
              "      <td>1</td>\n",
              "      <td>0.6745</td>\n",
              "      <td>NaN</td>\n",
              "      <td>0.0000</td>\n",
              "      <td>Virgin America</td>\n",
              "      <td>NaN</td>\n",
              "      <td>cjmcginnis</td>\n",
              "      <td>NaN</td>\n",
              "      <td>0</td>\n",
              "      <td>@VirginAmerica yes, nearly every time I fly VX...</td>\n",
              "      <td>NaN</td>\n",
              "      <td>2015-02-24 11:13:57 -0800</td>\n",
              "      <td>San Francisco CA</td>\n",
              "      <td>Pacific Time (US &amp; Canada)</td>\n",
              "      <td>nearly every time fly vx ear worm go away</td>\n",
              "    </tr>\n",
              "  </tbody>\n",
              "</table>\n",
              "</div>\n",
              "      <button class=\"colab-df-convert\" onclick=\"convertToInteractive('df-7485f0d9-353c-4eed-bb85-671d6ba7e7af')\"\n",
              "              title=\"Convert this dataframe to an interactive table.\"\n",
              "              style=\"display:none;\">\n",
              "        \n",
              "  <svg xmlns=\"http://www.w3.org/2000/svg\" height=\"24px\"viewBox=\"0 0 24 24\"\n",
              "       width=\"24px\">\n",
              "    <path d=\"M0 0h24v24H0V0z\" fill=\"none\"/>\n",
              "    <path d=\"M18.56 5.44l.94 2.06.94-2.06 2.06-.94-2.06-.94-.94-2.06-.94 2.06-2.06.94zm-11 1L8.5 8.5l.94-2.06 2.06-.94-2.06-.94L8.5 2.5l-.94 2.06-2.06.94zm10 10l.94 2.06.94-2.06 2.06-.94-2.06-.94-.94-2.06-.94 2.06-2.06.94z\"/><path d=\"M17.41 7.96l-1.37-1.37c-.4-.4-.92-.59-1.43-.59-.52 0-1.04.2-1.43.59L10.3 9.45l-7.72 7.72c-.78.78-.78 2.05 0 2.83L4 21.41c.39.39.9.59 1.41.59.51 0 1.02-.2 1.41-.59l7.78-7.78 2.81-2.81c.8-.78.8-2.07 0-2.86zM5.41 20L4 18.59l7.72-7.72 1.47 1.35L5.41 20z\"/>\n",
              "  </svg>\n",
              "      </button>\n",
              "      \n",
              "  <style>\n",
              "    .colab-df-container {\n",
              "      display:flex;\n",
              "      flex-wrap:wrap;\n",
              "      gap: 12px;\n",
              "    }\n",
              "\n",
              "    .colab-df-convert {\n",
              "      background-color: #E8F0FE;\n",
              "      border: none;\n",
              "      border-radius: 50%;\n",
              "      cursor: pointer;\n",
              "      display: none;\n",
              "      fill: #1967D2;\n",
              "      height: 32px;\n",
              "      padding: 0 0 0 0;\n",
              "      width: 32px;\n",
              "    }\n",
              "\n",
              "    .colab-df-convert:hover {\n",
              "      background-color: #E2EBFA;\n",
              "      box-shadow: 0px 1px 2px rgba(60, 64, 67, 0.3), 0px 1px 3px 1px rgba(60, 64, 67, 0.15);\n",
              "      fill: #174EA6;\n",
              "    }\n",
              "\n",
              "    [theme=dark] .colab-df-convert {\n",
              "      background-color: #3B4455;\n",
              "      fill: #D2E3FC;\n",
              "    }\n",
              "\n",
              "    [theme=dark] .colab-df-convert:hover {\n",
              "      background-color: #434B5C;\n",
              "      box-shadow: 0px 1px 3px 1px rgba(0, 0, 0, 0.15);\n",
              "      filter: drop-shadow(0px 1px 2px rgba(0, 0, 0, 0.3));\n",
              "      fill: #FFFFFF;\n",
              "    }\n",
              "  </style>\n",
              "\n",
              "      <script>\n",
              "        const buttonEl =\n",
              "          document.querySelector('#df-7485f0d9-353c-4eed-bb85-671d6ba7e7af button.colab-df-convert');\n",
              "        buttonEl.style.display =\n",
              "          google.colab.kernel.accessAllowed ? 'block' : 'none';\n",
              "\n",
              "        async function convertToInteractive(key) {\n",
              "          const element = document.querySelector('#df-7485f0d9-353c-4eed-bb85-671d6ba7e7af');\n",
              "          const dataTable =\n",
              "            await google.colab.kernel.invokeFunction('convertToInteractive',\n",
              "                                                     [key], {});\n",
              "          if (!dataTable) return;\n",
              "\n",
              "          const docLinkHtml = 'Like what you see? Visit the ' +\n",
              "            '<a target=\"_blank\" href=https://colab.research.google.com/notebooks/data_table.ipynb>data table notebook</a>'\n",
              "            + ' to learn more about interactive tables.';\n",
              "          element.innerHTML = '';\n",
              "          dataTable['output_type'] = 'display_data';\n",
              "          await google.colab.output.renderOutput(dataTable, element);\n",
              "          const docLink = document.createElement('div');\n",
              "          docLink.innerHTML = docLinkHtml;\n",
              "          element.appendChild(docLink);\n",
              "        }\n",
              "      </script>\n",
              "    </div>\n",
              "  </div>\n",
              "  "
            ]
          },
          "metadata": {},
          "execution_count": 38
        }
      ]
    },
    {
      "cell_type": "code",
      "source": [
        "print(\"the shape of original \", data.shape)\n",
        "print(\"the shape of the cleaned\", datanoneu.shape)"
      ],
      "metadata": {
        "colab": {
          "base_uri": "https://localhost:8080/"
        },
        "id": "_OItzXbHYDnq",
        "outputId": "45109484-799e-4cf5-a3b8-59f964695279"
      },
      "execution_count": 39,
      "outputs": [
        {
          "output_type": "stream",
          "name": "stdout",
          "text": [
            "the shape of original  (14640, 15)\n",
            "the shape of the cleaned (11541, 16)\n"
          ]
        }
      ]
    },
    {
      "cell_type": "code",
      "source": [
        "datanoneu['airline_sentiment'].unique()"
      ],
      "metadata": {
        "colab": {
          "base_uri": "https://localhost:8080/"
        },
        "id": "Q4HCab8uZzWr",
        "outputId": "7a812cdf-75f8-4bad-863f-f97a8fc6812f"
      },
      "execution_count": 41,
      "outputs": [
        {
          "output_type": "execute_result",
          "data": {
            "text/plain": [
              "array([1, 0])"
            ]
          },
          "metadata": {},
          "execution_count": 41
        }
      ]
    },
    {
      "cell_type": "code",
      "source": [
        "#base model with Svm and tfidf model\n",
        "from sklearn.feature_extraction.text import TfidfVectorizer\n",
        "## modifiy the datas and inputs features for the model\n",
        "tfidf =  TfidfVectorizer(use_idf=True, lowercase=True)\n",
        "x_tfidf_df = tfidf.fit_transform(datanoneu.cleaned_tweet)"
      ],
      "metadata": {
        "id": "tc42pauEZ8ls"
      },
      "execution_count": 48,
      "outputs": []
    },
    {
      "cell_type": "code",
      "source": [
        "# spliting the dataset for  the train and test model\n",
        "x_train, x_test, y_train, y_test = train_test_split(x_tfidf_df,datanoneu['airline_sentiment'],test_size=0.3, random_state=42)"
      ],
      "metadata": {
        "id": "Kd_1DAX1gQ6N"
      },
      "execution_count": 49,
      "outputs": []
    },
    {
      "cell_type": "code",
      "source": [
        "print(x_train.shape)"
      ],
      "metadata": {
        "colab": {
          "base_uri": "https://localhost:8080/"
        },
        "id": "Rm3W4rj7j5F9",
        "outputId": "37e295aa-bb8a-42bd-8aa5-cee3a22c0a7e"
      },
      "execution_count": 53,
      "outputs": [
        {
          "output_type": "stream",
          "name": "stdout",
          "text": [
            "(8078, 10776)\n"
          ]
        }
      ]
    },
    {
      "cell_type": "code",
      "source": [
        "from sklearn import model_selection, naive_bayes, svm"
      ],
      "metadata": {
        "id": "u0jUd6HPj-0y"
      },
      "execution_count": 54,
      "outputs": []
    },
    {
      "cell_type": "code",
      "source": [
        "svc = svm.SVC(probability=True)\n",
        "svc.fit(x_train,y_train)"
      ],
      "metadata": {
        "colab": {
          "base_uri": "https://localhost:8080/",
          "height": 75
        },
        "id": "rC7nAJqykPK2",
        "outputId": "5b600990-4470-49e8-a9bc-49d36919b22d"
      },
      "execution_count": 56,
      "outputs": [
        {
          "output_type": "execute_result",
          "data": {
            "text/plain": [
              "SVC(probability=True)"
            ],
            "text/html": [
              "<style>#sk-container-id-1 {color: black;background-color: white;}#sk-container-id-1 pre{padding: 0;}#sk-container-id-1 div.sk-toggleable {background-color: white;}#sk-container-id-1 label.sk-toggleable__label {cursor: pointer;display: block;width: 100%;margin-bottom: 0;padding: 0.3em;box-sizing: border-box;text-align: center;}#sk-container-id-1 label.sk-toggleable__label-arrow:before {content: \"▸\";float: left;margin-right: 0.25em;color: #696969;}#sk-container-id-1 label.sk-toggleable__label-arrow:hover:before {color: black;}#sk-container-id-1 div.sk-estimator:hover label.sk-toggleable__label-arrow:before {color: black;}#sk-container-id-1 div.sk-toggleable__content {max-height: 0;max-width: 0;overflow: hidden;text-align: left;background-color: #f0f8ff;}#sk-container-id-1 div.sk-toggleable__content pre {margin: 0.2em;color: black;border-radius: 0.25em;background-color: #f0f8ff;}#sk-container-id-1 input.sk-toggleable__control:checked~div.sk-toggleable__content {max-height: 200px;max-width: 100%;overflow: auto;}#sk-container-id-1 input.sk-toggleable__control:checked~label.sk-toggleable__label-arrow:before {content: \"▾\";}#sk-container-id-1 div.sk-estimator input.sk-toggleable__control:checked~label.sk-toggleable__label {background-color: #d4ebff;}#sk-container-id-1 div.sk-label input.sk-toggleable__control:checked~label.sk-toggleable__label {background-color: #d4ebff;}#sk-container-id-1 input.sk-hidden--visually {border: 0;clip: rect(1px 1px 1px 1px);clip: rect(1px, 1px, 1px, 1px);height: 1px;margin: -1px;overflow: hidden;padding: 0;position: absolute;width: 1px;}#sk-container-id-1 div.sk-estimator {font-family: monospace;background-color: #f0f8ff;border: 1px dotted black;border-radius: 0.25em;box-sizing: border-box;margin-bottom: 0.5em;}#sk-container-id-1 div.sk-estimator:hover {background-color: #d4ebff;}#sk-container-id-1 div.sk-parallel-item::after {content: \"\";width: 100%;border-bottom: 1px solid gray;flex-grow: 1;}#sk-container-id-1 div.sk-label:hover label.sk-toggleable__label {background-color: #d4ebff;}#sk-container-id-1 div.sk-serial::before {content: \"\";position: absolute;border-left: 1px solid gray;box-sizing: border-box;top: 0;bottom: 0;left: 50%;z-index: 0;}#sk-container-id-1 div.sk-serial {display: flex;flex-direction: column;align-items: center;background-color: white;padding-right: 0.2em;padding-left: 0.2em;position: relative;}#sk-container-id-1 div.sk-item {position: relative;z-index: 1;}#sk-container-id-1 div.sk-parallel {display: flex;align-items: stretch;justify-content: center;background-color: white;position: relative;}#sk-container-id-1 div.sk-item::before, #sk-container-id-1 div.sk-parallel-item::before {content: \"\";position: absolute;border-left: 1px solid gray;box-sizing: border-box;top: 0;bottom: 0;left: 50%;z-index: -1;}#sk-container-id-1 div.sk-parallel-item {display: flex;flex-direction: column;z-index: 1;position: relative;background-color: white;}#sk-container-id-1 div.sk-parallel-item:first-child::after {align-self: flex-end;width: 50%;}#sk-container-id-1 div.sk-parallel-item:last-child::after {align-self: flex-start;width: 50%;}#sk-container-id-1 div.sk-parallel-item:only-child::after {width: 0;}#sk-container-id-1 div.sk-dashed-wrapped {border: 1px dashed gray;margin: 0 0.4em 0.5em 0.4em;box-sizing: border-box;padding-bottom: 0.4em;background-color: white;}#sk-container-id-1 div.sk-label label {font-family: monospace;font-weight: bold;display: inline-block;line-height: 1.2em;}#sk-container-id-1 div.sk-label-container {text-align: center;}#sk-container-id-1 div.sk-container {/* jupyter's `normalize.less` sets `[hidden] { display: none; }` but bootstrap.min.css set `[hidden] { display: none !important; }` so we also need the `!important` here to be able to override the default hidden behavior on the sphinx rendered scikit-learn.org. See: https://github.com/scikit-learn/scikit-learn/issues/21755 */display: inline-block !important;position: relative;}#sk-container-id-1 div.sk-text-repr-fallback {display: none;}</style><div id=\"sk-container-id-1\" class=\"sk-top-container\"><div class=\"sk-text-repr-fallback\"><pre>SVC(probability=True)</pre><b>In a Jupyter environment, please rerun this cell to show the HTML representation or trust the notebook. <br />On GitHub, the HTML representation is unable to render, please try loading this page with nbviewer.org.</b></div><div class=\"sk-container\" hidden><div class=\"sk-item\"><div class=\"sk-estimator sk-toggleable\"><input class=\"sk-toggleable__control sk-hidden--visually\" id=\"sk-estimator-id-1\" type=\"checkbox\" checked><label for=\"sk-estimator-id-1\" class=\"sk-toggleable__label sk-toggleable__label-arrow\">SVC</label><div class=\"sk-toggleable__content\"><pre>SVC(probability=True)</pre></div></div></div></div></div>"
            ]
          },
          "metadata": {},
          "execution_count": 56
        }
      ]
    },
    {
      "cell_type": "code",
      "source": [
        "svc.score(x_test,y_test)"
      ],
      "metadata": {
        "colab": {
          "base_uri": "https://localhost:8080/"
        },
        "id": "vvfjzuCekWfF",
        "outputId": "4aa4b683-c2b7-4ba2-eb67-3a547e5c6246"
      },
      "execution_count": 57,
      "outputs": [
        {
          "output_type": "execute_result",
          "data": {
            "text/plain": [
              "0.8830493791510251"
            ]
          },
          "metadata": {},
          "execution_count": 57
        }
      ]
    },
    {
      "cell_type": "code",
      "source": [
        "s_train_accuracy, s_test_accuracy, s_train_auc, s_test_auc = check_scores(svc,x_train, x_test, y_train, y_test)"
      ],
      "metadata": {
        "colab": {
          "base_uri": "https://localhost:8080/",
          "height": 915
        },
        "id": "OHkm1GaikjHU",
        "outputId": "f188ecb4-bc7c-45a5-a846-9912f7685495"
      },
      "execution_count": 58,
      "outputs": [
        {
          "output_type": "stream",
          "name": "stdout",
          "text": [
            "Train confusion matrix is: \n",
            "[[6377   30]\n",
            " [ 142 1529]]\n",
            "\n",
            "Test confusion matrix is: \n",
            "[[2736   35]\n",
            " [ 370  322]]\n",
            "\n",
            "              precision    recall  f1-score   support\n",
            "\n",
            "           0       0.88      0.99      0.93      2771\n",
            "           1       0.90      0.47      0.61       692\n",
            "\n",
            "    accuracy                           0.88      3463\n",
            "   macro avg       0.89      0.73      0.77      3463\n",
            "weighted avg       0.89      0.88      0.87      3463\n",
            "\n",
            "\n",
            "Train accuracy score:  0.9787076008913097\n",
            "Test accuracy score:  0.8830493791510251\n",
            "\n",
            "Train ROC-AUC score:  0.9968175143565391\n",
            "Test ROC-AUC score:  0.9280356207875542\n",
            "\n",
            "Are under Precision-Recall curve: 0.6139180171591992\n",
            "Area under ROC-AUC: 0.8071357118198546\n"
          ]
        },
        {
          "output_type": "display_data",
          "data": {
            "text/plain": [
              "<Figure size 640x480 with 2 Axes>"
            ],
            "image/png": "[encoded data removed]"
          },
          "metadata": {}
        }
      ]
    },
    {
      "cell_type": "code",
      "source": [
        "#parameter adjusting using the gridsearchCV\n",
        "parameters ={\n",
        "    \"C\":[0.1,1,10],\n",
        "    \"kernel\":['linear', 'rbf', 'sigmoid'],\n",
        "    \"gamma\":['scale', 'auto']\n",
        "}\n",
        "\n",
        "\n",
        "\n",
        "svm_optimal = grid_search(svm.SVC(probability=True), parameters,x_train, y_train)"
      ],
      "metadata": {
        "colab": {
          "base_uri": "https://localhost:8080/"
        },
        "id": "wcBPNL5cktz7",
        "outputId": "033963b7-a6e6-4f8d-dc54-c305d82e96f2"
      },
      "execution_count": 59,
      "outputs": [
        {
          "output_type": "stream",
          "name": "stdout",
          "text": [
            "Fitting 2 folds for each of 18 candidates, totalling 36 fits\n",
            "[CV] END ..................C=0.1, gamma=scale, kernel=linear; total time=   4.8s\n",
            "[CV] END ..................C=0.1, gamma=scale, kernel=linear; total time=   4.2s\n",
            "[CV] END .....................C=0.1, gamma=scale, kernel=rbf; total time=   6.5s\n",
            "[CV] END .....................C=0.1, gamma=scale, kernel=rbf; total time=   6.8s\n",
            "[CV] END .................C=0.1, gamma=scale, kernel=sigmoid; total time=   3.8s\n",
            "[CV] END .................C=0.1, gamma=scale, kernel=sigmoid; total time=   3.7s\n",
            "[CV] END ...................C=0.1, gamma=auto, kernel=linear; total time=   4.2s\n",
            "[CV] END ...................C=0.1, gamma=auto, kernel=linear; total time=   4.0s\n",
            "[CV] END ......................C=0.1, gamma=auto, kernel=rbf; total time=   2.9s\n",
            "[CV] END ......................C=0.1, gamma=auto, kernel=rbf; total time=   3.0s\n",
            "[CV] END ..................C=0.1, gamma=auto, kernel=sigmoid; total time=   3.3s\n",
            "[CV] END ..................C=0.1, gamma=auto, kernel=sigmoid; total time=   3.7s\n",
            "[CV] END ....................C=1, gamma=scale, kernel=linear; total time=   3.8s\n",
            "[CV] END ....................C=1, gamma=scale, kernel=linear; total time=   3.7s\n",
            "[CV] END .......................C=1, gamma=scale, kernel=rbf; total time=   7.4s\n",
            "[CV] END .......................C=1, gamma=scale, kernel=rbf; total time=   6.6s\n",
            "[CV] END ...................C=1, gamma=scale, kernel=sigmoid; total time=   4.2s\n",
            "[CV] END ...................C=1, gamma=scale, kernel=sigmoid; total time=   3.4s\n",
            "[CV] END .....................C=1, gamma=auto, kernel=linear; total time=   3.8s\n",
            "[CV] END .....................C=1, gamma=auto, kernel=linear; total time=   4.0s\n",
            "[CV] END ........................C=1, gamma=auto, kernel=rbf; total time=   3.4s\n",
            "[CV] END ........................C=1, gamma=auto, kernel=rbf; total time=   3.0s\n",
            "[CV] END ....................C=1, gamma=auto, kernel=sigmoid; total time=   2.8s\n",
            "[CV] END ....................C=1, gamma=auto, kernel=sigmoid; total time=   2.9s\n",
            "[CV] END ...................C=10, gamma=scale, kernel=linear; total time=   4.5s\n",
            "[CV] END ...................C=10, gamma=scale, kernel=linear; total time=   4.3s\n",
            "[CV] END ......................C=10, gamma=scale, kernel=rbf; total time=   8.0s\n",
            "[CV] END ......................C=10, gamma=scale, kernel=rbf; total time=   7.3s\n",
            "[CV] END ..................C=10, gamma=scale, kernel=sigmoid; total time=   5.4s\n",
            "[CV] END ..................C=10, gamma=scale, kernel=sigmoid; total time=   4.4s\n",
            "[CV] END ....................C=10, gamma=auto, kernel=linear; total time=   3.9s\n",
            "[CV] END ....................C=10, gamma=auto, kernel=linear; total time=   5.1s\n",
            "[CV] END .......................C=10, gamma=auto, kernel=rbf; total time=   4.3s\n",
            "[CV] END .......................C=10, gamma=auto, kernel=rbf; total time=   4.0s\n",
            "[CV] END ...................C=10, gamma=auto, kernel=sigmoid; total time=   3.8s\n",
            "[CV] END ...................C=10, gamma=auto, kernel=sigmoid; total time=   3.2s\n",
            "\n",
            "\n",
            "Best parameters are: \n",
            "{'C': 10, 'gamma': 'scale', 'kernel': 'rbf'}\n"
          ]
        }
      ]
    },
    {
      "cell_type": "code",
      "source": [
        "so_train_accuracy, so_test_accuracy, so_train_auc, so_test_auc = check_scores(svm_optimal,x_train, x_test, y_train, y_test)"
      ],
      "metadata": {
        "colab": {
          "base_uri": "https://localhost:8080/",
          "height": 915
        },
        "id": "wAlSe01ilPTU",
        "outputId": "eeed4d92-23f3-4a6f-a432-e5124ec958e3"
      },
      "execution_count": 60,
      "outputs": [
        {
          "output_type": "stream",
          "name": "stdout",
          "text": [
            "Train confusion matrix is: \n",
            "[[6382   25]\n",
            " [   4 1667]]\n",
            "\n",
            "Test confusion matrix is: \n",
            "[[2711   60]\n",
            " [ 306  386]]\n",
            "\n",
            "              precision    recall  f1-score   support\n",
            "\n",
            "           0       0.90      0.98      0.94      2771\n",
            "           1       0.87      0.56      0.68       692\n",
            "\n",
            "    accuracy                           0.89      3463\n",
            "   macro avg       0.88      0.77      0.81      3463\n",
            "weighted avg       0.89      0.89      0.89      3463\n",
            "\n",
            "\n",
            "Train accuracy score:  0.9964100024758603\n",
            "Test accuracy score:  0.8943112907883338\n",
            "\n",
            "Train ROC-AUC score:  0.9984624648926681\n",
            "Test ROC-AUC score:  0.9282277948946877\n",
            "\n",
            "Are under Precision-Recall curve: 0.6783831282952548\n",
            "Area under ROC-AUC: 0.81205761019596\n"
          ]
        },
        {
          "output_type": "display_data",
          "data": {
            "text/plain": [
              "<Figure size 640x480 with 2 Axes>"
            ],
            "image/png": "[encoded data removed]"
          },
          "metadata": {}
        }
      ]
    },
    {
      "cell_type": "code",
      "source": [
        "from sklearn.naive_bayes import MultinomialNB ,GaussianNB ## trying the naive bayes algorithms"
      ],
      "metadata": {
        "id": "HiSL3IoInxFs"
      },
      "execution_count": 73,
      "outputs": []
    },
    {
      "cell_type": "code",
      "source": [
        "bayes = MultinomialNB()"
      ],
      "metadata": {
        "id": "Er1-dfGkn_b2"
      },
      "execution_count": 71,
      "outputs": []
    },
    {
      "cell_type": "code",
      "source": [
        "NB_trainscore,NB_tesscore,NB_trainAUC,NB_testAUC = check_scores(bayes,x_train, x_test, y_train, y_test)"
      ],
      "metadata": {
        "colab": {
          "base_uri": "https://localhost:8080/",
          "height": 915
        },
        "id": "Q6IQZ5rir4d1",
        "outputId": "49695231-41e8-4ca2-889b-b201568ea726"
      },
      "execution_count": 72,
      "outputs": [
        {
          "output_type": "stream",
          "name": "stdout",
          "text": [
            "Train confusion matrix is: \n",
            "[[6405    2]\n",
            " [1230  441]]\n",
            "\n",
            "Test confusion matrix is: \n",
            "[[2769    2]\n",
            " [ 592  100]]\n",
            "\n",
            "              precision    recall  f1-score   support\n",
            "\n",
            "           0       0.82      1.00      0.90      2771\n",
            "           1       0.98      0.14      0.25       692\n",
            "\n",
            "    accuracy                           0.83      3463\n",
            "   macro avg       0.90      0.57      0.58      3463\n",
            "weighted avg       0.86      0.83      0.77      3463\n",
            "\n",
            "\n",
            "Train accuracy score:  0.8474870017331022\n",
            "Test accuracy score:  0.8284724227548369\n",
            "\n",
            "Train ROC-AUC score:  0.9564426700038304\n",
            "Test ROC-AUC score:  0.9016827359334814\n",
            "\n",
            "Are under Precision-Recall curve: 0.2518891687657431\n",
            "Area under ROC-AUC: 0.7442784894593476\n"
          ]
        },
        {
          "output_type": "display_data",
          "data": {
            "text/plain": [
              "<Figure size 640x480 with 2 Axes>"
            ],
            "image/png": "[encoded data removed]"
          },
          "metadata": {}
        }
      ]
    },
    {
      "cell_type": "code",
      "source": [
        "g_train_accuracy, g_test_accuracy, g_train_auc, g_test_auc=check_scores(GaussianNB(),x_train.toarray(), x_test.toarray(), y_train, y_test)"
      ],
      "metadata": {
        "colab": {
          "base_uri": "https://localhost:8080/",
          "height": 915
        },
        "id": "p7Qo4R2qsELj",
        "outputId": "4072139b-a220-41c2-f2f7-40af29a42f91"
      },
      "execution_count": 74,
      "outputs": [
        {
          "output_type": "stream",
          "name": "stdout",
          "text": [
            "Train confusion matrix is: \n",
            "[[5256 1151]\n",
            " [   0 1671]]\n",
            "\n",
            "Test confusion matrix is: \n",
            "[[1973  798]\n",
            " [ 225  467]]\n",
            "\n",
            "              precision    recall  f1-score   support\n",
            "\n",
            "           0       0.90      0.71      0.79      2771\n",
            "           1       0.37      0.67      0.48       692\n",
            "\n",
            "    accuracy                           0.70      3463\n",
            "   macro avg       0.63      0.69      0.64      3463\n",
            "weighted avg       0.79      0.70      0.73      3463\n",
            "\n",
            "\n",
            "Train accuracy score:  0.8575142361970784\n",
            "Test accuracy score:  0.7045913947444412\n",
            "\n",
            "Train ROC-AUC score:  0.9101763695957547\n",
            "Test ROC-AUC score:  0.6934364067979049\n",
            "\n",
            "Are under Precision-Recall curve: 0.47726111394992327\n",
            "Area under ROC-AUC: 0.5544990094710537\n"
          ]
        },
        {
          "output_type": "display_data",
          "data": {
            "text/plain": [
              "<Figure size 640x480 with 2 Axes>"
            ],
            "image/png": "[encoded data removed]"
          },
          "metadata": {}
        }
      ]
    },
    {
      "cell_type": "code",
      "source": [
        "#using the ensemble algorithms to ckeck the result and score \\\n",
        "from sklearn.ensemble import AdaBoostClassifier\n",
        "from sklearn.tree import DecisionTreeClassifier ## base weak learer for the ada boost"
      ],
      "metadata": {
        "id": "8JQO104F3vU8"
      },
      "execution_count": 75,
      "outputs": []
    },
    {
      "cell_type": "code",
      "source": [
        "#Step 3: Choose a weak learner (base estimator)\n",
        "base_estimator = DecisionTreeClassifier(max_depth=1)\n",
        "# Step 4: Create an AdaBoost instance\n",
        "adaboost = AdaBoostClassifier(base_estimator=base_estimator, n_estimators=50, learning_rate=1.0)\n",
        "\n"
      ],
      "metadata": {
        "id": "W1JhcAJf47hn"
      },
      "execution_count": 76,
      "outputs": []
    },
    {
      "cell_type": "code",
      "source": [
        "a_train_accuracy, a_test_accuracy, a_train_auc, a_test_auc=check_scores(adaboost,x_train,x_test, y_train, y_test)"
      ],
      "metadata": {
        "colab": {
          "base_uri": "https://localhost:8080/",
          "height": 950
        },
        "id": "y1nIXNRk5Eej",
        "outputId": "a05406bc-c3e2-462d-8bf1-0b9a7e240d82"
      },
      "execution_count": 77,
      "outputs": [
        {
          "output_type": "stream",
          "name": "stderr",
          "text": [
            "/usr/local/lib/python3.10/dist-packages/sklearn/ensemble/_base.py:166: FutureWarning: `base_estimator` was renamed to `estimator` in version 1.2 and will be removed in 1.4.\n",
            "  warnings.warn(\n"
          ]
        },
        {
          "output_type": "stream",
          "name": "stdout",
          "text": [
            "Train confusion matrix is: \n",
            "[[6225  182]\n",
            " [ 936  735]]\n",
            "\n",
            "Test confusion matrix is: \n",
            "[[2691   80]\n",
            " [ 414  278]]\n",
            "\n",
            "              precision    recall  f1-score   support\n",
            "\n",
            "           0       0.87      0.97      0.92      2771\n",
            "           1       0.78      0.40      0.53       692\n",
            "\n",
            "    accuracy                           0.86      3463\n",
            "   macro avg       0.82      0.69      0.72      3463\n",
            "weighted avg       0.85      0.86      0.84      3463\n",
            "\n",
            "\n",
            "Train accuracy score:  0.8615994057935132\n",
            "Test accuracy score:  0.8573491192607565\n",
            "\n",
            "Train ROC-AUC score:  0.8653829682282909\n",
            "Test ROC-AUC score:  0.8382397268989513\n",
            "\n",
            "Are under Precision-Recall curve: 0.5295238095238096\n",
            "Area under ROC-AUC: 0.6462447644664262\n"
          ]
        },
        {
          "output_type": "display_data",
          "data": {
            "text/plain": [
              "<Figure size 640x480 with 2 Axes>"
            ],
            "image/png": "[encoded data removed]"
          },
          "metadata": {}
        }
      ]
    },
    {
      "cell_type": "code",
      "source": [
        "a_train_accuracy, a_test_accuracy, a_train_auc, a_test_auc=check_scores(AdaBoostClassifier(),x_train,x_test, y_train, y_test) # without the base learner\n"
      ],
      "metadata": {
        "colab": {
          "base_uri": "https://localhost:8080/",
          "height": 915
        },
        "id": "fdvxnKJJ5LET",
        "outputId": "7e8eb827-629e-4258-a507-924ae1cd75da"
      },
      "execution_count": 78,
      "outputs": [
        {
          "output_type": "stream",
          "name": "stdout",
          "text": [
            "Train confusion matrix is: \n",
            "[[6225  182]\n",
            " [ 936  735]]\n",
            "\n",
            "Test confusion matrix is: \n",
            "[[2691   80]\n",
            " [ 414  278]]\n",
            "\n",
            "              precision    recall  f1-score   support\n",
            "\n",
            "           0       0.87      0.97      0.92      2771\n",
            "           1       0.78      0.40      0.53       692\n",
            "\n",
            "    accuracy                           0.86      3463\n",
            "   macro avg       0.82      0.69      0.72      3463\n",
            "weighted avg       0.85      0.86      0.84      3463\n",
            "\n",
            "\n",
            "Train accuracy score:  0.8615994057935132\n",
            "Test accuracy score:  0.8573491192607565\n",
            "\n",
            "Train ROC-AUC score:  0.8653829682282909\n",
            "Test ROC-AUC score:  0.8382397268989513\n",
            "\n",
            "Are under Precision-Recall curve: 0.5295238095238096\n",
            "Area under ROC-AUC: 0.6462447644664262\n"
          ]
        },
        {
          "output_type": "display_data",
          "data": {
            "text/plain": [
              "<Figure size 640x480 with 2 Axes>"
            ],
            "image/png": "[encoded data removed]"
          },
          "metadata": {}
        }
      ]
    },
    {
      "cell_type": "code",
      "source": [
        "params = {'n_estimators': [10, 50, 100, 500],\n",
        " 'learning_rate': [0.0001, 0.001, 0.01, 0.1, 1.0],\n",
        " 'algorithm': ['SAMME', 'SAMME.R']}\n",
        "\n",
        "ada_optimal_model = grid_search(AdaBoostClassifier(), params,x_train, y_train)"
      ],
      "metadata": {
        "colab": {
          "base_uri": "https://localhost:8080/"
        },
        "id": "zcalYSs25QSA",
        "outputId": "873d3c1c-2dff-46fa-a02e-ca36b8fe76c4"
      },
      "execution_count": 79,
      "outputs": [
        {
          "output_type": "stream",
          "name": "stdout",
          "text": [
            "Fitting 2 folds for each of 40 candidates, totalling 80 fits\n",
            "[CV] END algorithm=SAMME, learning_rate=0.0001, n_estimators=10; total time=   0.2s\n",
            "[CV] END algorithm=SAMME, learning_rate=0.0001, n_estimators=10; total time=   0.3s\n",
            "[CV] END algorithm=SAMME, learning_rate=0.0001, n_estimators=50; total time=   2.2s\n",
            "[CV] END algorithm=SAMME, learning_rate=0.0001, n_estimators=50; total time=   1.1s\n",
            "[CV] END algorithm=SAMME, learning_rate=0.0001, n_estimators=100; total time=   2.8s\n",
            "[CV] END algorithm=SAMME, learning_rate=0.0001, n_estimators=100; total time=   2.2s\n",
            "[CV] END algorithm=SAMME, learning_rate=0.0001, n_estimators=500; total time=  10.0s\n",
            "[CV] END algorithm=SAMME, learning_rate=0.0001, n_estimators=500; total time=  10.0s\n",
            "[CV] END algorithm=SAMME, learning_rate=0.001, n_estimators=10; total time=   0.2s\n",
            "[CV] END algorithm=SAMME, learning_rate=0.001, n_estimators=10; total time=   0.2s\n",
            "[CV] END algorithm=SAMME, learning_rate=0.001, n_estimators=50; total time=   1.0s\n",
            "[CV] END algorithm=SAMME, learning_rate=0.001, n_estimators=50; total time=   1.6s\n",
            "[CV] END algorithm=SAMME, learning_rate=0.001, n_estimators=100; total time=   2.5s\n",
            "[CV] END algorithm=SAMME, learning_rate=0.001, n_estimators=100; total time=   1.9s\n",
            "[CV] END algorithm=SAMME, learning_rate=0.001, n_estimators=500; total time=  10.5s\n",
            "[CV] END algorithm=SAMME, learning_rate=0.001, n_estimators=500; total time=   9.4s\n",
            "[CV] END algorithm=SAMME, learning_rate=0.01, n_estimators=10; total time=   0.3s\n",
            "[CV] END algorithm=SAMME, learning_rate=0.01, n_estimators=10; total time=   0.3s\n",
            "[CV] END algorithm=SAMME, learning_rate=0.01, n_estimators=50; total time=   1.6s\n",
            "[CV] END algorithm=SAMME, learning_rate=0.01, n_estimators=50; total time=   1.2s\n",
            "[CV] END algorithm=SAMME, learning_rate=0.01, n_estimators=100; total time=   1.9s\n",
            "[CV] END algorithm=SAMME, learning_rate=0.01, n_estimators=100; total time=   1.9s\n",
            "[CV] END algorithm=SAMME, learning_rate=0.01, n_estimators=500; total time=  10.6s\n",
            "[CV] END algorithm=SAMME, learning_rate=0.01, n_estimators=500; total time=  10.3s\n",
            "[CV] END algorithm=SAMME, learning_rate=0.1, n_estimators=10; total time=   0.3s\n",
            "[CV] END algorithm=SAMME, learning_rate=0.1, n_estimators=10; total time=   0.3s\n",
            "[CV] END algorithm=SAMME, learning_rate=0.1, n_estimators=50; total time=   0.9s\n",
            "[CV] END algorithm=SAMME, learning_rate=0.1, n_estimators=50; total time=   0.9s\n",
            "[CV] END algorithm=SAMME, learning_rate=0.1, n_estimators=100; total time=   1.9s\n",
            "[CV] END algorithm=SAMME, learning_rate=0.1, n_estimators=100; total time=   1.9s\n",
            "[CV] END algorithm=SAMME, learning_rate=0.1, n_estimators=500; total time=  11.6s\n",
            "[CV] END algorithm=SAMME, learning_rate=0.1, n_estimators=500; total time=  11.1s\n",
            "[CV] END algorithm=SAMME, learning_rate=1.0, n_estimators=10; total time=   0.3s\n",
            "[CV] END algorithm=SAMME, learning_rate=1.0, n_estimators=10; total time=   0.3s\n",
            "[CV] END algorithm=SAMME, learning_rate=1.0, n_estimators=50; total time=   1.5s\n",
            "[CV] END algorithm=SAMME, learning_rate=1.0, n_estimators=50; total time=   1.2s\n",
            "[CV] END algorithm=SAMME, learning_rate=1.0, n_estimators=100; total time=   2.2s\n",
            "[CV] END algorithm=SAMME, learning_rate=1.0, n_estimators=100; total time=   2.4s\n",
            "[CV] END algorithm=SAMME, learning_rate=1.0, n_estimators=500; total time=  10.5s\n",
            "[CV] END algorithm=SAMME, learning_rate=1.0, n_estimators=500; total time=  10.5s\n",
            "[CV] END algorithm=SAMME.R, learning_rate=0.0001, n_estimators=10; total time=   0.2s\n",
            "[CV] END algorithm=SAMME.R, learning_rate=0.0001, n_estimators=10; total time=   0.2s\n",
            "[CV] END algorithm=SAMME.R, learning_rate=0.0001, n_estimators=50; total time=   1.0s\n",
            "[CV] END algorithm=SAMME.R, learning_rate=0.0001, n_estimators=50; total time=   1.0s\n",
            "[CV] END algorithm=SAMME.R, learning_rate=0.0001, n_estimators=100; total time=   2.0s\n",
            "[CV] END algorithm=SAMME.R, learning_rate=0.0001, n_estimators=100; total time=   3.1s\n",
            "[CV] END algorithm=SAMME.R, learning_rate=0.0001, n_estimators=500; total time=   9.9s\n",
            "[CV] END algorithm=SAMME.R, learning_rate=0.0001, n_estimators=500; total time=  11.1s\n",
            "[CV] END algorithm=SAMME.R, learning_rate=0.001, n_estimators=10; total time=   0.2s\n",
            "[CV] END algorithm=SAMME.R, learning_rate=0.001, n_estimators=10; total time=   0.2s\n",
            "[CV] END algorithm=SAMME.R, learning_rate=0.001, n_estimators=50; total time=   1.0s\n",
            "[CV] END algorithm=SAMME.R, learning_rate=0.001, n_estimators=50; total time=   1.2s\n",
            "[CV] END algorithm=SAMME.R, learning_rate=0.001, n_estimators=100; total time=   2.9s\n",
            "[CV] END algorithm=SAMME.R, learning_rate=0.001, n_estimators=100; total time=   2.0s\n",
            "[CV] END algorithm=SAMME.R, learning_rate=0.001, n_estimators=500; total time=  11.0s\n",
            "[CV] END algorithm=SAMME.R, learning_rate=0.001, n_estimators=500; total time=  10.1s\n",
            "[CV] END algorithm=SAMME.R, learning_rate=0.01, n_estimators=10; total time=   0.3s\n",
            "[CV] END algorithm=SAMME.R, learning_rate=0.01, n_estimators=10; total time=   0.3s\n",
            "[CV] END algorithm=SAMME.R, learning_rate=0.01, n_estimators=50; total time=   1.6s\n",
            "[CV] END algorithm=SAMME.R, learning_rate=0.01, n_estimators=50; total time=   1.0s\n",
            "[CV] END algorithm=SAMME.R, learning_rate=0.01, n_estimators=100; total time=   2.0s\n",
            "[CV] END algorithm=SAMME.R, learning_rate=0.01, n_estimators=100; total time=   2.0s\n",
            "[CV] END algorithm=SAMME.R, learning_rate=0.01, n_estimators=500; total time=  11.5s\n",
            "[CV] END algorithm=SAMME.R, learning_rate=0.01, n_estimators=500; total time=  11.0s\n",
            "[CV] END algorithm=SAMME.R, learning_rate=0.1, n_estimators=10; total time=   0.2s\n",
            "[CV] END algorithm=SAMME.R, learning_rate=0.1, n_estimators=10; total time=   0.2s\n",
            "[CV] END algorithm=SAMME.R, learning_rate=0.1, n_estimators=50; total time=   1.0s\n",
            "[CV] END algorithm=SAMME.R, learning_rate=0.1, n_estimators=50; total time=   1.0s\n",
            "[CV] END algorithm=SAMME.R, learning_rate=0.1, n_estimators=100; total time=   2.0s\n",
            "[CV] END algorithm=SAMME.R, learning_rate=0.1, n_estimators=100; total time=   2.0s\n",
            "[CV] END algorithm=SAMME.R, learning_rate=0.1, n_estimators=500; total time=  11.1s\n",
            "[CV] END algorithm=SAMME.R, learning_rate=0.1, n_estimators=500; total time=  11.1s\n",
            "[CV] END algorithm=SAMME.R, learning_rate=1.0, n_estimators=10; total time=   0.2s\n",
            "[CV] END algorithm=SAMME.R, learning_rate=1.0, n_estimators=10; total time=   0.2s\n",
            "[CV] END algorithm=SAMME.R, learning_rate=1.0, n_estimators=50; total time=   1.0s\n",
            "[CV] END algorithm=SAMME.R, learning_rate=1.0, n_estimators=50; total time=   1.0s\n",
            "[CV] END algorithm=SAMME.R, learning_rate=1.0, n_estimators=100; total time=   2.0s\n",
            "[CV] END algorithm=SAMME.R, learning_rate=1.0, n_estimators=100; total time=   2.5s\n",
            "[CV] END algorithm=SAMME.R, learning_rate=1.0, n_estimators=500; total time=  11.7s\n",
            "[CV] END algorithm=SAMME.R, learning_rate=1.0, n_estimators=500; total time=  10.9s\n",
            "\n",
            "\n",
            "Best parameters are: \n",
            "{'algorithm': 'SAMME.R', 'learning_rate': 0.1, 'n_estimators': 500}\n"
          ]
        }
      ]
    },
    {
      "cell_type": "code",
      "source": [
        "ao_train_accuracy, ao_test_accuracy, ao_train_auc, ao_test_auc=check_scores(ada_optimal_model,x_train,x_test, y_train, y_test)"
      ],
      "metadata": {
        "colab": {
          "base_uri": "https://localhost:8080/",
          "height": 915
        },
        "id": "URSG7pGi5miQ",
        "outputId": "79ee2c49-e967-486d-82d0-82241136fddf"
      },
      "execution_count": 80,
      "outputs": [
        {
          "output_type": "stream",
          "name": "stdout",
          "text": [
            "Train confusion matrix is: \n",
            "[[6315   92]\n",
            " [ 955  716]]\n",
            "\n",
            "Test confusion matrix is: \n",
            "[[2720   51]\n",
            " [ 420  272]]\n",
            "\n",
            "              precision    recall  f1-score   support\n",
            "\n",
            "           0       0.87      0.98      0.92      2771\n",
            "           1       0.84      0.39      0.54       692\n",
            "\n",
            "    accuracy                           0.86      3463\n",
            "   macro avg       0.85      0.69      0.73      3463\n",
            "weighted avg       0.86      0.86      0.84      3463\n",
            "\n",
            "\n",
            "Train accuracy score:  0.8703887100767517\n",
            "Test accuracy score:  0.8639907594571181\n",
            "\n",
            "Train ROC-AUC score:  0.9243626785746477\n",
            "Test ROC-AUC score:  0.8795404718148119\n",
            "\n",
            "Are under Precision-Recall curve: 0.535960591133005\n",
            "Area under ROC-AUC: 0.7128547117220069\n"
          ]
        },
        {
          "output_type": "display_data",
          "data": {
            "text/plain": [
              "<Figure size 640x480 with 2 Axes>"
            ],
            "image/png": "[encoded data removed]"
          },
          "metadata": {}
        }
      ]
    },
    {
      "cell_type": "code",
      "source": [
        "## use the random forest medthod type of ensemble learning\n",
        "from sklearn.ensemble import RandomForestClassifier"
      ],
      "metadata": {
        "id": "mftMdztk8PCF"
      },
      "execution_count": 81,
      "outputs": []
    },
    {
      "cell_type": "code",
      "source": [
        "r_train_accuracy, r_test_accuracy, r_train_auc, r_test_auc= check_scores(RandomForestClassifier(random_state=0).fit(x_train, y_train), x_train,x_test,y_train,y_test)"
      ],
      "metadata": {
        "colab": {
          "base_uri": "https://localhost:8080/",
          "height": 915
        },
        "id": "6cW10wPo6-I8",
        "outputId": "d2694a9b-af54-4a1c-fe9f-efa335d61922"
      },
      "execution_count": 91,
      "outputs": [
        {
          "output_type": "stream",
          "name": "stdout",
          "text": [
            "Train confusion matrix is: \n",
            "[[6381   26]\n",
            " [   4 1667]]\n",
            "\n",
            "Test confusion matrix is: \n",
            "[[2649  122]\n",
            " [ 307  385]]\n",
            "\n",
            "              precision    recall  f1-score   support\n",
            "\n",
            "           0       0.90      0.96      0.93      2771\n",
            "           1       0.76      0.56      0.64       692\n",
            "\n",
            "    accuracy                           0.88      3463\n",
            "   macro avg       0.83      0.76      0.78      3463\n",
            "weighted avg       0.87      0.88      0.87      3463\n",
            "\n",
            "\n",
            "Train accuracy score:  0.9962862094577866\n",
            "Test accuracy score:  0.8761189719896044\n",
            "\n",
            "Train ROC-AUC score:  0.9982699577633194\n",
            "Test ROC-AUC score:  0.8956875295953338\n",
            "\n",
            "Are under Precision-Recall curve: 0.6422018348623854\n",
            "Area under ROC-AUC: 0.7378113304390189\n"
          ]
        },
        {
          "output_type": "display_data",
          "data": {
            "text/plain": [
              "<Figure size 640x480 with 2 Axes>"
            ],
            "image/png": "[encoded data removed]"
          },
          "metadata": {}
        }
      ]
    },
    {
      "cell_type": "code",
      "source": [
        "#optimal random forest\n",
        "param_grid = {\n",
        "    'n_estimators': [100, 200, 300],\n",
        "    'max_depth': [ 5, 10],\n",
        "    'min_samples_split': [2, 5, 10],\n",
        "\n",
        "}\n",
        "\n",
        "rand_optimal_model = grid_search(RandomForestClassifier(), param_grid,x_train, y_train)\n"
      ],
      "metadata": {
        "colab": {
          "base_uri": "https://localhost:8080/"
        },
        "id": "S8Ll2g908dp2",
        "outputId": "d9844c62-8274-4f2e-c25f-50fce7aa3ff3"
      },
      "execution_count": 86,
      "outputs": [
        {
          "output_type": "stream",
          "name": "stdout",
          "text": [
            "Fitting 2 folds for each of 18 candidates, totalling 36 fits\n",
            "[CV] END .max_depth=5, min_samples_split=2, n_estimators=100; total time=   0.3s\n",
            "[CV] END .max_depth=5, min_samples_split=2, n_estimators=100; total time=   0.3s\n",
            "[CV] END .max_depth=5, min_samples_split=2, n_estimators=200; total time=   0.6s\n",
            "[CV] END .max_depth=5, min_samples_split=2, n_estimators=200; total time=   0.9s\n",
            "[CV] END .max_depth=5, min_samples_split=2, n_estimators=300; total time=   1.2s\n",
            "[CV] END .max_depth=5, min_samples_split=2, n_estimators=300; total time=   0.9s\n",
            "[CV] END .max_depth=5, min_samples_split=5, n_estimators=100; total time=   0.3s\n",
            "[CV] END .max_depth=5, min_samples_split=5, n_estimators=100; total time=   0.3s\n",
            "[CV] END .max_depth=5, min_samples_split=5, n_estimators=200; total time=   0.6s\n",
            "[CV] END .max_depth=5, min_samples_split=5, n_estimators=200; total time=   0.6s\n",
            "[CV] END .max_depth=5, min_samples_split=5, n_estimators=300; total time=   0.8s\n",
            "[CV] END .max_depth=5, min_samples_split=5, n_estimators=300; total time=   0.8s\n",
            "[CV] END max_depth=5, min_samples_split=10, n_estimators=100; total time=   0.3s\n",
            "[CV] END max_depth=5, min_samples_split=10, n_estimators=100; total time=   0.3s\n",
            "[CV] END max_depth=5, min_samples_split=10, n_estimators=200; total time=   0.6s\n",
            "[CV] END max_depth=5, min_samples_split=10, n_estimators=200; total time=   0.6s\n",
            "[CV] END max_depth=5, min_samples_split=10, n_estimators=300; total time=   1.1s\n",
            "[CV] END max_depth=5, min_samples_split=10, n_estimators=300; total time=   1.3s\n",
            "[CV] END max_depth=10, min_samples_split=2, n_estimators=100; total time=   0.7s\n",
            "[CV] END max_depth=10, min_samples_split=2, n_estimators=100; total time=   0.4s\n",
            "[CV] END max_depth=10, min_samples_split=2, n_estimators=200; total time=   0.9s\n",
            "[CV] END max_depth=10, min_samples_split=2, n_estimators=200; total time=   0.9s\n",
            "[CV] END max_depth=10, min_samples_split=2, n_estimators=300; total time=   1.3s\n",
            "[CV] END max_depth=10, min_samples_split=2, n_estimators=300; total time=   1.7s\n",
            "[CV] END max_depth=10, min_samples_split=5, n_estimators=100; total time=   0.5s\n",
            "[CV] END max_depth=10, min_samples_split=5, n_estimators=100; total time=   0.4s\n",
            "[CV] END max_depth=10, min_samples_split=5, n_estimators=200; total time=   0.9s\n",
            "[CV] END max_depth=10, min_samples_split=5, n_estimators=200; total time=   0.9s\n",
            "[CV] END max_depth=10, min_samples_split=5, n_estimators=300; total time=   1.3s\n",
            "[CV] END max_depth=10, min_samples_split=5, n_estimators=300; total time=   1.6s\n",
            "[CV] END max_depth=10, min_samples_split=10, n_estimators=100; total time=   0.7s\n",
            "[CV] END max_depth=10, min_samples_split=10, n_estimators=100; total time=   0.6s\n",
            "[CV] END max_depth=10, min_samples_split=10, n_estimators=200; total time=   1.1s\n",
            "[CV] END max_depth=10, min_samples_split=10, n_estimators=200; total time=   0.8s\n",
            "[CV] END max_depth=10, min_samples_split=10, n_estimators=300; total time=   1.3s\n",
            "[CV] END max_depth=10, min_samples_split=10, n_estimators=300; total time=   1.3s\n",
            "\n",
            "\n",
            "Best parameters are: \n",
            "{'max_depth': 10, 'min_samples_split': 5, 'n_estimators': 300}\n"
          ]
        }
      ]
    },
    {
      "cell_type": "code",
      "source": [
        "ro_train_accuracy, ro_test_accuracy, ro_train_auc, ro_test_auc= check_scores(rand_optimal_model.fit(x_train,y_train), x_train,x_test,y_train,y_test)"
      ],
      "metadata": {
        "colab": {
          "base_uri": "https://localhost:8080/",
          "height": 1000
        },
        "id": "A6e09uZn9GSt",
        "outputId": "36c4bd78-4246-44e2-b8ce-e8e5f32cafc4"
      },
      "execution_count": 89,
      "outputs": [
        {
          "output_type": "stream",
          "name": "stdout",
          "text": [
            "Train confusion matrix is: \n",
            "[[6407    0]\n",
            " [1671    0]]\n",
            "\n",
            "Test confusion matrix is: \n",
            "[[2771    0]\n",
            " [ 692    0]]\n",
            "\n",
            "              precision    recall  f1-score   support\n",
            "\n",
            "           0       0.80      1.00      0.89      2771\n",
            "           1       0.00      0.00      0.00       692\n",
            "\n",
            "    accuracy                           0.80      3463\n",
            "   macro avg       0.40      0.50      0.44      3463\n",
            "weighted avg       0.64      0.80      0.71      3463\n",
            "\n",
            "\n",
            "Train accuracy score:  0.7931418667987126\n",
            "Test accuracy score:  0.8001732601790356\n",
            "\n"
          ]
        },
        {
          "output_type": "stream",
          "name": "stderr",
          "text": [
            "/usr/local/lib/python3.10/dist-packages/sklearn/metrics/_classification.py:1344: UndefinedMetricWarning: Precision and F-score are ill-defined and being set to 0.0 in labels with no predicted samples. Use `zero_division` parameter to control this behavior.\n",
            "  _warn_prf(average, modifier, msg_start, len(result))\n",
            "/usr/local/lib/python3.10/dist-packages/sklearn/metrics/_classification.py:1344: UndefinedMetricWarning: Precision and F-score are ill-defined and being set to 0.0 in labels with no predicted samples. Use `zero_division` parameter to control this behavior.\n",
            "  _warn_prf(average, modifier, msg_start, len(result))\n",
            "/usr/local/lib/python3.10/dist-packages/sklearn/metrics/_classification.py:1344: UndefinedMetricWarning: Precision and F-score are ill-defined and being set to 0.0 in labels with no predicted samples. Use `zero_division` parameter to control this behavior.\n",
            "  _warn_prf(average, modifier, msg_start, len(result))\n"
          ]
        },
        {
          "output_type": "stream",
          "name": "stdout",
          "text": [
            "Train ROC-AUC score:  0.9417068610530989\n",
            "Test ROC-AUC score:  0.8836540928652038\n",
            "\n",
            "Are under Precision-Recall curve: 0.0\n",
            "Area under ROC-AUC: 0.7181035758407855\n"
          ]
        },
        {
          "output_type": "display_data",
          "data": {
            "text/plain": [
              "<Figure size 640x480 with 2 Axes>"
            ],
            "image/png": "[encoded data removed]"
          },
          "metadata": {}
        }
      ]
    },
    {
      "cell_type": "code",
      "source": [
        "## collection of scores\n",
        "data = [('Random Forest', r_train_accuracy, r_test_accuracy, r_train_auc, r_test_auc),\n",
        " ('MultinomialNB',NB_trainscore,NB_tesscore,NB_trainAUC,NB_testAUC),\n",
        " ('AdaBoost',a_train_accuracy, a_test_accuracy, a_train_auc, a_test_auc ),\n",
        "('AdaBoost Optimized',ao_train_accuracy, ao_test_accuracy, ao_train_auc, ao_test_auc),\n",
        "('Gaussian Naive Bayes',g_train_accuracy, g_test_accuracy, g_train_auc, g_test_auc),\n",
        "('SVM', s_train_accuracy, s_test_accuracy, s_train_auc, s_test_auc),\n",
        "('SVM Optimized', so_train_accuracy, so_test_accuracy, so_train_auc, so_test_auc),\n",
        "('RandomForest Optimized', ro_train_accuracy, ro_test_accuracy, ro_train_auc, ro_test_auc),\n",
        "\n",
        "]\n",
        "\n",
        "\n",
        "Scores_ =pd.DataFrame(data = data, columns=['Model Name','Train Accuracy', 'Test Accuracy', 'Train ROC', 'Test ROC'])\n",
        "Scores_.set_index('Model Name', inplace = True)\n",
        "\n",
        "Scores_"
      ],
      "metadata": {
        "colab": {
          "base_uri": "https://localhost:8080/",
          "height": 332
        },
        "id": "EPTdK4wR-Mdr",
        "outputId": "15df41bf-4a42-4545-c5b1-ded6fcca6dd8"
      },
      "execution_count": 92,
      "outputs": [
        {
          "output_type": "execute_result",
          "data": {
            "text/plain": [
              "                        Train Accuracy  Test Accuracy  Train ROC  Test ROC\n",
              "Model Name                                                                \n",
              "Random Forest                 0.996286       0.876119   0.998270  0.895688\n",
              "MultinomialNB                 0.847487       0.828472   0.956443  0.901683\n",
              "AdaBoost                      0.861599       0.857349   0.865383  0.838240\n",
              "AdaBoost Optimized            0.870389       0.863991   0.924363  0.879540\n",
              "Gaussian Naive Bayes          0.857514       0.704591   0.910176  0.693436\n",
              "SVM                           0.978708       0.883049   0.996818  0.928036\n",
              "SVM Optimized                 0.996410       0.894311   0.998462  0.928228\n",
              "RandomForest Optimized        0.793142       0.800173   0.941707  0.883654"
            ],
            "text/html": [
              "\n",
              "  <div id=\"df-8344f61d-ef6e-4a77-b982-ff644127cf79\">\n",
              "    <div class=\"colab-df-container\">\n",
              "      <div>\n",
              "<style scoped>\n",
              "    .dataframe tbody tr th:only-of-type {\n",
              "        vertical-align: middle;\n",
              "    }\n",
              "\n",
              "    .dataframe tbody tr th {\n",
              "        vertical-align: top;\n",
              "    }\n",
              "\n",
              "    .dataframe thead th {\n",
              "        text-align: right;\n",
              "    }\n",
              "</style>\n",
              "<table border=\"1\" class=\"dataframe\">\n",
              "  <thead>\n",
              "    <tr style=\"text-align: right;\">\n",
              "      <th></th>\n",
              "      <th>Train Accuracy</th>\n",
              "      <th>Test Accuracy</th>\n",
              "      <th>Train ROC</th>\n",
              "      <th>Test ROC</th>\n",
              "    </tr>\n",
              "    <tr>\n",
              "      <th>Model Name</th>\n",
              "      <th></th>\n",
              "      <th></th>\n",
              "      <th></th>\n",
              "      <th></th>\n",
              "    </tr>\n",
              "  </thead>\n",
              "  <tbody>\n",
              "    <tr>\n",
              "      <th>Random Forest</th>\n",
              "      <td>0.996286</td>\n",
              "      <td>0.876119</td>\n",
              "      <td>0.998270</td>\n",
              "      <td>0.895688</td>\n",
              "    </tr>\n",
              "    <tr>\n",
              "      <th>MultinomialNB</th>\n",
              "      <td>0.847487</td>\n",
              "      <td>0.828472</td>\n",
              "      <td>0.956443</td>\n",
              "      <td>0.901683</td>\n",
              "    </tr>\n",
              "    <tr>\n",
              "      <th>AdaBoost</th>\n",
              "      <td>0.861599</td>\n",
              "      <td>0.857349</td>\n",
              "      <td>0.865383</td>\n",
              "      <td>0.838240</td>\n",
              "    </tr>\n",
              "    <tr>\n",
              "      <th>AdaBoost Optimized</th>\n",
              "      <td>0.870389</td>\n",
              "      <td>0.863991</td>\n",
              "      <td>0.924363</td>\n",
              "      <td>0.879540</td>\n",
              "    </tr>\n",
              "    <tr>\n",
              "      <th>Gaussian Naive Bayes</th>\n",
              "      <td>0.857514</td>\n",
              "      <td>0.704591</td>\n",
              "      <td>0.910176</td>\n",
              "      <td>0.693436</td>\n",
              "    </tr>\n",
              "    <tr>\n",
              "      <th>SVM</th>\n",
              "      <td>0.978708</td>\n",
              "      <td>0.883049</td>\n",
              "      <td>0.996818</td>\n",
              "      <td>0.928036</td>\n",
              "    </tr>\n",
              "    <tr>\n",
              "      <th>SVM Optimized</th>\n",
              "      <td>0.996410</td>\n",
              "      <td>0.894311</td>\n",
              "      <td>0.998462</td>\n",
              "      <td>0.928228</td>\n",
              "    </tr>\n",
              "    <tr>\n",
              "      <th>RandomForest Optimized</th>\n",
              "      <td>0.793142</td>\n",
              "      <td>0.800173</td>\n",
              "      <td>0.941707</td>\n",
              "      <td>0.883654</td>\n",
              "    </tr>\n",
              "  </tbody>\n",
              "</table>\n",
              "</div>\n",
              "      <button class=\"colab-df-convert\" onclick=\"convertToInteractive('df-8344f61d-ef6e-4a77-b982-ff644127cf79')\"\n",
              "              title=\"Convert this dataframe to an interactive table.\"\n",
              "              style=\"display:none;\">\n",
              "        \n",
              "  <svg xmlns=\"http://www.w3.org/2000/svg\" height=\"24px\"viewBox=\"0 0 24 24\"\n",
              "       width=\"24px\">\n",
              "    <path d=\"M0 0h24v24H0V0z\" fill=\"none\"/>\n",
              "    <path d=\"M18.56 5.44l.94 2.06.94-2.06 2.06-.94-2.06-.94-.94-2.06-.94 2.06-2.06.94zm-11 1L8.5 8.5l.94-2.06 2.06-.94-2.06-.94L8.5 2.5l-.94 2.06-2.06.94zm10 10l.94 2.06.94-2.06 2.06-.94-2.06-.94-.94-2.06-.94 2.06-2.06.94z\"/><path d=\"M17.41 7.96l-1.37-1.37c-.4-.4-.92-.59-1.43-.59-.52 0-1.04.2-1.43.59L10.3 9.45l-7.72 7.72c-.78.78-.78 2.05 0 2.83L4 21.41c.39.39.9.59 1.41.59.51 0 1.02-.2 1.41-.59l7.78-7.78 2.81-2.81c.8-.78.8-2.07 0-2.86zM5.41 20L4 18.59l7.72-7.72 1.47 1.35L5.41 20z\"/>\n",
              "  </svg>\n",
              "      </button>\n",
              "      \n",
              "  <style>\n",
              "    .colab-df-container {\n",
              "      display:flex;\n",
              "      flex-wrap:wrap;\n",
              "      gap: 12px;\n",
              "    }\n",
              "\n",
              "    .colab-df-convert {\n",
              "      background-color: #E8F0FE;\n",
              "      border: none;\n",
              "      border-radius: 50%;\n",
              "      cursor: pointer;\n",
              "      display: none;\n",
              "      fill: #1967D2;\n",
              "      height: 32px;\n",
              "      padding: 0 0 0 0;\n",
              "      width: 32px;\n",
              "    }\n",
              "\n",
              "    .colab-df-convert:hover {\n",
              "      background-color: #E2EBFA;\n",
              "      box-shadow: 0px 1px 2px rgba(60, 64, 67, 0.3), 0px 1px 3px 1px rgba(60, 64, 67, 0.15);\n",
              "      fill: #174EA6;\n",
              "    }\n",
              "\n",
              "    [theme=dark] .colab-df-convert {\n",
              "      background-color: #3B4455;\n",
              "      fill: #D2E3FC;\n",
              "    }\n",
              "\n",
              "    [theme=dark] .colab-df-convert:hover {\n",
              "      background-color: #434B5C;\n",
              "      box-shadow: 0px 1px 3px 1px rgba(0, 0, 0, 0.15);\n",
              "      filter: drop-shadow(0px 1px 2px rgba(0, 0, 0, 0.3));\n",
              "      fill: #FFFFFF;\n",
              "    }\n",
              "  </style>\n",
              "\n",
              "      <script>\n",
              "        const buttonEl =\n",
              "          document.querySelector('#df-8344f61d-ef6e-4a77-b982-ff644127cf79 button.colab-df-convert');\n",
              "        buttonEl.style.display =\n",
              "          google.colab.kernel.accessAllowed ? 'block' : 'none';\n",
              "\n",
              "        async function convertToInteractive(key) {\n",
              "          const element = document.querySelector('#df-8344f61d-ef6e-4a77-b982-ff644127cf79');\n",
              "          const dataTable =\n",
              "            await google.colab.kernel.invokeFunction('convertToInteractive',\n",
              "                                                     [key], {});\n",
              "          if (!dataTable) return;\n",
              "\n",
              "          const docLinkHtml = 'Like what you see? Visit the ' +\n",
              "            '<a target=\"_blank\" href=https://colab.research.google.com/notebooks/data_table.ipynb>data table notebook</a>'\n",
              "            + ' to learn more about interactive tables.';\n",
              "          element.innerHTML = '';\n",
              "          dataTable['output_type'] = 'display_data';\n",
              "          await google.colab.output.renderOutput(dataTable, element);\n",
              "          const docLink = document.createElement('div');\n",
              "          docLink.innerHTML = docLinkHtml;\n",
              "          element.appendChild(docLink);\n",
              "        }\n",
              "      </script>\n",
              "    </div>\n",
              "  </div>\n",
              "  "
            ]
          },
          "metadata": {},
          "execution_count": 92
        }
      ]
    },
    {
      "cell_type": "code",
      "source": [
        "Scores_['Test Accuracy'].sort_values(ascending=False) ## well working all algorithms"
      ],
      "metadata": {
        "colab": {
          "base_uri": "https://localhost:8080/"
        },
        "id": "_fzZMk3i--O6",
        "outputId": "54263e91-68fb-4bab-c149-4176fe179ad4"
      },
      "execution_count": 93,
      "outputs": [
        {
          "output_type": "execute_result",
          "data": {
            "text/plain": [
              "Model Name\n",
              "SVM Optimized             0.894311\n",
              "SVM                       0.883049\n",
              "Random Forest             0.876119\n",
              "AdaBoost Optimized        0.863991\n",
              "AdaBoost                  0.857349\n",
              "MultinomialNB             0.828472\n",
              "RandomForest Optimized    0.800173\n",
              "Gaussian Naive Bayes      0.704591\n",
              "Name: Test Accuracy, dtype: float64"
            ]
          },
          "metadata": {},
          "execution_count": 93
        }
      ]
    },
    {
      "cell_type": "code",
      "source": [],
      "metadata": {
        "id": "Bywuz5Q8_VJL"
      },
      "execution_count": null,
      "outputs": []
    }
  ]
}